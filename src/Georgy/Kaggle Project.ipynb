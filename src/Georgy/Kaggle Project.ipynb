{
 "cells": [
  {
   "cell_type": "code",
   "execution_count": 40,
   "metadata": {},
   "outputs": [],
   "source": [
    "import os\n",
    "%matplotlib inline\n",
    "\n",
    "import os\n",
    "from collections import Counter, OrderedDict\n",
    "import numpy as np\n",
    "from operator import itemgetter\n",
    "import matplotlib.pyplot as plt\n",
    "from astropy.table import Table\n",
    "import multiprocessing\n",
    "from cesium.time_series import TimeSeries\n",
    "import cesium.featurize as featurize\n",
    "from tqdm import tnrange, tqdm_notebook, tqdm\n",
    "import sklearn \n",
    "from sklearn.model_selection import StratifiedShuffleSplit\n",
    "from sklearn.decomposition import PCA\n",
    "from sklearn.ensemble import RandomForestClassifier\n",
    "from sklearn.metrics import confusion_matrix\n",
    "import seaborn as sns\n",
    "import pandas as pd"
   ]
  },
  {
   "cell_type": "code",
   "execution_count": 41,
   "metadata": {},
   "outputs": [],
   "source": [
    "### Read data files train_meta and train\n",
    "os.chdir('/Users/shengyao/Downloads/Kaggle Data')"
   ]
  },
  {
   "cell_type": "code",
   "execution_count": 42,
   "metadata": {},
   "outputs": [],
   "source": [
    "train_meta_data = pd.read_csv('training_set_metadata.csv')\n",
    "train = pd.read_csv('training_set.csv')\n",
    "train['mjd'] = train['mjd'].apply(int)"
   ]
  },
  {
   "cell_type": "code",
   "execution_count": 43,
   "metadata": {},
   "outputs": [],
   "source": [
    "train['mjd'] = train['mjd'].apply(int)"
   ]
  },
  {
   "cell_type": "code",
   "execution_count": 44,
   "metadata": {},
   "outputs": [
    {
     "data": {
      "text/plain": [
       "Index(['object_id', 'mjd', 'passband', 'flux', 'flux_err', 'detected'], dtype='object')"
      ]
     },
     "execution_count": 44,
     "metadata": {},
     "output_type": "execute_result"
    }
   ],
   "source": [
    "train = train[:10000]\n",
    "train.columns"
   ]
  },
  {
   "cell_type": "code",
   "execution_count": 45,
   "metadata": {},
   "outputs": [],
   "source": [
    "df_list = list()\n",
    "columns_label = ['object_id','mjd']\n",
    "for i in range(1,6):\n",
    "    new = ['flux'+str(i),'flux_err'+str(i),'detected'+str(i)]\n",
    "    columns_label = columns_label + new\n"
   ]
  },
  {
   "cell_type": "code",
   "execution_count": 46,
   "metadata": {},
   "outputs": [
    {
     "name": "stderr",
     "output_type": "stream",
     "text": [
      "100%|██████████| 3510/3510 [00:32<00:00, 109.23it/s]\n"
     ]
    }
   ],
   "source": [
    "for groups in tqdm(train.groupby(['object_id','mjd'])):\n",
    "    entry = pd.DataFrame(data=[[None]*17],columns=columns_label)\n",
    "    groups_df = groups[1]\n",
    "    entry['object_id'] = groups_df['mjd']\n",
    "    entry['mjd'] = groups_df['mjd']\n",
    "    for i in range(1,6):\n",
    "        if i in groups_df['passband']:\n",
    "            entry['flux'+str(i)] = groups_df[groups_df['passband']==i]['flux']\n",
    "            entry['flux_err'+str(i)] = groups_df[groups_df['passband']==i]['flux_err']\n",
    "            entry['detected'+str(i)] = groups_df[groups_df['passband']==i]['detected']\n",
    "        else:\n",
    "            entry['flux'+str(i)] = np.nan\n",
    "            entry['flux_err'+str(i)] = np.nan\n",
    "            entry['detected'+str(i)] = np.nan\n",
    "    df_list.append(entry)"
   ]
  },
  {
   "cell_type": "code",
   "execution_count": null,
   "metadata": {},
   "outputs": [],
   "source": []
  }
 ],
 "metadata": {
  "kernelspec": {
   "display_name": "Python 3",
   "language": "python",
   "name": "python3"
  },
  "language_info": {
   "codemirror_mode": {
    "name": "ipython",
    "version": 3
   },
   "file_extension": ".py",
   "mimetype": "text/x-python",
   "name": "python",
   "nbconvert_exporter": "python",
   "pygments_lexer": "ipython3",
   "version": "3.6.4"
  }
 },
 "nbformat": 4,
 "nbformat_minor": 2
}
