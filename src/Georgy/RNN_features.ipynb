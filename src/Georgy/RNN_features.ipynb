{
 "cells": [
  {
   "cell_type": "markdown",
   "metadata": {},
   "source": [
    "## Preprocess data/ build features for RNN/LSTM/GRU"
   ]
  },
  {
   "cell_type": "code",
   "execution_count": 26,
   "metadata": {},
   "outputs": [],
   "source": [
    "import os\n",
    "import copy \n",
    "import numpy as np\n",
    "import torch.nn as nn\n",
    "import torch\n",
    "import csv\n",
    "import itertools\n",
    "import operator\n",
    "import nltk\n",
    "import sys\n",
    "from datetime import datetime\n",
    "\n",
    "\n",
    "# keras libs\n",
    "from keras.models import Sequential\n",
    "from keras.layers import Dense\n",
    "from keras.layers import LSTM\n",
    "from sklearn.preprocessing import MinMaxScaler\n",
    "from sklearn.metrics import mean_squared_error\n",
    "\n",
    "import matplotlib.pyplot as plt\n",
    "%matplotlib inline\n",
    "\n",
    "# import pandas for data processing\n",
    "import pandas as pd\n",
    "\n",
    "# import lib for plot\n",
    "import matplotlib.pyplot as plt"
   ]
  },
  {
   "cell_type": "markdown",
   "metadata": {},
   "source": [
    "## Read train data to pandas framework"
   ]
  },
  {
   "cell_type": "code",
   "execution_count": 78,
   "metadata": {},
   "outputs": [],
   "source": [
    "# define path to data files\n",
    "data_path = \"/Users/georgyguryev/Documents/repos/6.867/PLAsTiCC-Astronomical-Classification/data/class_data/\"\n",
    "\n",
    "# define train time series and static data\n",
    "train_ts_fname = \"class_training_set.csv\"\n",
    "train_md_fname = \"class_training_set_meta.csv\"\n",
    "\n",
    "test_ts_fname = \"class_test_set.csv\"\n",
    "test_md_fname = \"class_test_set_meta.csv\"\n",
    "\n",
    "# read csv files \n",
    "train_time_series = pd.read_csv(data_path + train_ts_fname)\n",
    "train_meta_data   = pd.read_csv(data_path + train_md_fname)\n",
    "\n",
    "test_time_series = pd.read_csv(data_path + test_ts_fname)\n",
    "test_meta_data   = pd.read_csv(data_path + test_md_fname)\n"
   ]
  },
  {
   "cell_type": "markdown",
   "metadata": {},
   "source": [
    "## Generate features"
   ]
  },
  {
   "cell_type": "code",
   "execution_count": null,
   "metadata": {},
   "outputs": [],
   "source": []
  },
  {
   "cell_type": "code",
   "execution_count": 79,
   "metadata": {},
   "outputs": [
    {
     "name": "stdout",
     "output_type": "stream",
     "text": [
      "[      713       730       745 ... 130762946 130772921 130779836]\n"
     ]
    }
   ],
   "source": [
    "N_pass = 6\n",
    "N_obj  = train_time_series['object_id'].unique().shape[0]\n",
    "N_raw  = train_time_series.shape[0]\n",
    "\n",
    "# get maximum length of time series\n",
    "max_Length = train_time_series['object_id'].value_counts().max();\n",
    "\n",
    "# form a list of unique objects\n",
    "Obj_list   = train_time_series['object_id'].unique()\n",
    "\n",
    "print(Obj_list)\n",
    "\n",
    "\n",
    "def generate_features(data, n_passbd = 6):\n",
    "   \n",
    "    # define type of aggregation parameters\n",
    "    aggs = {'flux':['mean', 'std'],\n",
    "           'flux_err': ['mean','std']\n",
    "           }\n",
    "    \n",
    "    # aggregate data for statistics\n",
    "    obj_stat = data.groupby(['object_id', 'passband']).agg(aggs)\n",
    "\n",
    "    return obj_stat\n",
    "\n",
    "\n",
    "def sigmoid (x):\n",
    "    output = 1./ (1. + np.exp(x))\n",
    "    return output\n",
    "    \n",
    "    \n",
    "# call statistics generator\n",
    "obj_stat = generate_features(train_time_series)\n",
    "\n",
    "# convert DataFrame to np array\n",
    "stat_data = obj_stat.values\n",
    "\n",
    "# extract flux data [mean, std]\n",
    "flux_mean = stat_data[:,0].T.reshape((N_obj,N_pass))\n",
    "flux_std  = stat_data[:,1].T.reshape((N_obj,N_pass))\n",
    "\n",
    "# extract flux error [mean, std]\n",
    "flux_mean_err = stat_data[:,2].T.reshape((N_obj,N_pass))\n",
    "flux_std_err  = stat_data[:,3].T.reshape((N_obj,N_pass))\n",
    "\n",
    "# generate column names\n",
    "flux_mean_col = ['flux' + '_' + str(band) for band in range(N_pass)]\n",
    "flux_std_col  = ['flux_std' + '_' + str(band) for band in range(N_pass)]\n",
    "\n",
    "flux_err_mean_col = ['flux_err_' + '_' + str(band) for band in range(N_pass)]\n",
    "flux_err_std_col  = ['flux_err_std' + '_' + str(band) for band in range(N_pass)]\n",
    "\n",
    "# create datastructures \n",
    "df_flux_mean = pd.DataFrame(np.sign(flux_mean) * np.log(abs(flux_mean)))\n",
    "df_flux_std  = pd.DataFrame(np.sign(flux_std) * np.log(abs(flux_mean)))\n",
    "\n",
    "df_flux_err_mean = pd.DataFrame(np.sign(flux_mean_err) * np.log(abs(flux_mean_err)))\n",
    "df_flux_err_std  = pd.DataFrame(np.sign(flux_std_err) * np.log(abs(flux_std_err)))\n",
    "\n",
    "# label data structures\n",
    "df_flux_mean.columns = flux_mean_col\n",
    "df_flux_std.columns  = flux_std_col\n",
    "df_flux_err_mean.columns = flux_err_mean_col\n",
    "df_flux_err_std.columns  = flux_err_std_col\n",
    "\n",
    "# merge \n",
    "frames = pd.concat([df_flux_mean, df_flux_std, df_flux_err_mean, df_flux_err_std], axis = 1)\n"
   ]
  },
  {
   "cell_type": "code",
   "execution_count": null,
   "metadata": {},
   "outputs": [],
   "source": []
  },
  {
   "cell_type": "markdown",
   "metadata": {},
   "source": [
    "## Produce time series input for RNN \n"
   ]
  },
  {
   "cell_type": "code",
   "execution_count": 80,
   "metadata": {},
   "outputs": [],
   "source": [
    "def create_series_features(raw_train_series, stat_train_series):\n",
    "    \n",
    "    # allocate memory for new data structure\n",
    "    series_features    = copy.deepcopy(raw_train_series)\n",
    "    \n",
    "    # allocate memory for output feature vector\n",
    "    resulting_features = np.zeros((N_obj * max_Length, 4* N_pass + 12))\n",
    "    resulting_targets  = np.zeros((N_obj * max_Length,1))\n",
    "    \n",
    "#     print (resulting_features)\n",
    "    \n",
    "    # prepare label list for reshuffling\n",
    "    labels = [\"object_id\", \"mjd\", \"detected\", \"passband\", \"flux\", \"flux_err\"]\n",
    "    \n",
    "    series_features = series_features[labels]\n",
    "    \n",
    "#     for i in range(round(N_obj / 10)):\n",
    "    for i in range(N_obj):\n",
    "        \n",
    "        # select all observations for a current object\n",
    "        current_observ = series_features.loc[series_features['object_id'] == Obj_list[i]].values\n",
    "        \n",
    "        # select statistics vector for current object\n",
    "        current_flux_features = stat_train_series.iloc[i].values.T\n",
    "                        \n",
    "        cur_N_raw = current_observ.shape[0]\n",
    "\n",
    "        i_shift = max_Length * i\n",
    "                \n",
    "        # fill in the target metadata\n",
    "#         resulting_targets[i_shift: i_shift + max_Length] = np.ones((max_Length,1)) * target_meta_data[i]\n",
    "        \n",
    "        for j in range(cur_N_raw):\n",
    "            \n",
    "            # get current observation vector for i-th object\n",
    "            current_raw_vetor = np.reshape(current_observ[j,:], (6,1))\n",
    "                                    \n",
    "            # get current observation bandwidth\n",
    "            current_passband = int(current_raw_vetor[3])\n",
    "                \n",
    "            # update flux value for the current bandwidth\n",
    "            current_flux_features[current_passband] = np.sign(current_raw_vetor[4]) *  np.log(np.abs(current_raw_vetor[4]))\n",
    "\n",
    "            # update flux error for the current bandwidth\n",
    "            current_flux_features[current_passband + 2 * N_pass] = np.sign(current_raw_vetor[5]) * np.log(np.abs(current_raw_vetor[5]))\n",
    "\n",
    "            \n",
    "            \n",
    "            # concatenate static and dynamic features\n",
    "            resulting_features[i_shift + j,:] = np.concatenate((current_raw_vetor[0:3].T, np.reshape(current_flux_features, (1,33))), axis=1)\n",
    "\n",
    "        if ( i % 1000 == 999):    \n",
    "            print(i * 100 / N_obj)\n",
    "            \n",
    "    # return resulting features\n",
    "    return resulting_features\n",
    "        \n",
    "# target_meta_data = train_meta_data['target']\n",
    "# X_train, Y_train = create_series_features(train_time_series, train_static_data, target_meta_data)\n",
    "# X_train.shape\n"
   ]
  },
  {
   "cell_type": "markdown",
   "metadata": {},
   "source": [
    "## dkf;ksd;flks;d"
   ]
  },
  {
   "cell_type": "code",
   "execution_count": 81,
   "metadata": {},
   "outputs": [],
   "source": [
    "# extract target classes\n",
    "Y_train = pd.get_dummies(train_meta_data['target'])\n",
    "\n",
    "# define weight vector for unique label classes\n",
    "# weights = {x:1 for x in np.unique(target)}\n",
    "\n",
    "# remove nans/nulls for galactic redshift/dist\n",
    "train_mask = train_meta_data['distmod'].isnull().values\n",
    "\n",
    "# \n",
    "train_meta_data['distmod'].fillna(0, inplace=True)\n",
    "\n",
    "# # reweigth galaxies\n",
    "# weights[15] = 2\n",
    "# weights[64] = 2\n",
    "\n",
    "train_meta_data.head()\n",
    "\n",
    "# remove target and hostgal_specz columns from metadata\n",
    "remove_cols = ['hostgal_specz','target','object_id']\n",
    "for c in remove_cols:\n",
    "    if c in train_meta_data.columns:\n",
    "        del train_meta_data[c]\n",
    "\n",
    "\n",
    "\n",
    "# call function        \n",
    "# X_train = create_series_features(train_time_series, frames, train_meta_data)\n",
    "    \n",
    "# X_train_df = pd.DataFrame(X_train)\n"
   ]
  },
  {
   "cell_type": "code",
   "execution_count": 82,
   "metadata": {},
   "outputs": [
    {
     "name": "stdout",
     "output_type": "stream",
     "text": [
      "(5258, 33)\n",
      "18.99961962723469\n",
      "38.01825789273488\n",
      "57.03689615823507\n",
      "76.05553442373527\n",
      "95.07417268923545\n"
     ]
    },
    {
     "data": {
      "text/plain": [
       "(5258, 352, 36)"
      ]
     },
     "execution_count": 82,
     "metadata": {},
     "output_type": "execute_result"
    }
   ],
   "source": [
    "train_static_data = pd.concat([frames,train_meta_data], sort='False', axis=1)\n",
    "print(train_static_data.shape)\n",
    "\n",
    "\n",
    "# construct features\n",
    "X_train = create_series_features(train_time_series, train_static_data)\n",
    "\n",
    "\n",
    "# reshape data for rnn input\n",
    "n_rows = X_train.shape[0]\n",
    "\n",
    "X_train = np.reshape(X_train, (round(n_rows / 352),352,36))\n",
    "\n",
    "X_train.shape"
   ]
  },
  {
   "cell_type": "code",
   "execution_count": null,
   "metadata": {},
   "outputs": [],
   "source": []
  },
  {
   "cell_type": "markdown",
   "metadata": {},
   "source": [
    "# Create and Train RNN"
   ]
  },
  {
   "cell_type": "code",
   "execution_count": 83,
   "metadata": {},
   "outputs": [],
   "source": [
    "# instantiate rnn for simple test\n",
    "n_hidden = 36\n",
    "n_input  = 36\n",
    "n_categories = 14\n",
    "n_sequence = 352\n",
    "\n"
   ]
  },
  {
   "cell_type": "code",
   "execution_count": 84,
   "metadata": {},
   "outputs": [],
   "source": [
    "from sklearn.preprocessing import MinMaxScaler\n",
    "from sklearn.preprocessing import LabelEncoder\n",
    "from sklearn.metrics import mean_squared_error\n",
    "from keras.models import Sequential\n",
    "from keras.layers import Dense \n",
    "from keras.layers import Dropout\n",
    "from keras.layers import LSTM\n",
    "from keras import backend as K\n",
    "from sklearn.model_selection import train_test_split\n",
    "from keras.layers.normalization import BatchNormalization\n"
   ]
  },
  {
   "cell_type": "code",
   "execution_count": 85,
   "metadata": {},
   "outputs": [],
   "source": [
    "\n",
    "def multi_weighted_logloss(y_true, y_preds):\n",
    "    \"\"\"\n",
    "    this function implements a multi logloss \n",
    "    \"\"\"\n",
    "    print(y_true)\n",
    "    classes = [6, 15, 16, 42, 52, 53, 62, 64, 65, 67, 88, 90, 92, 95]\n",
    "    class_weight = {6: 1, 15: 2, 16: 1, 42: 1, 52: 1, 53: 1, 62: 1, 64: 2, 65: 1, 67: 1, 88: 1, 90: 1, 92: 1, 95: 1}\n",
    "    if len(np.unique(y_true)) > 14:\n",
    "        classes.append(99)\n",
    "        class_weight[99] = 2\n",
    "    y_p = y_preds\n",
    "    # Trasform y_true in dummies\n",
    "#     y_ohe = pd.get_dummies(y_true)\n",
    "    y_ohe = y_true\n",
    "    # Normalize rows and limit y_preds to 1e-15, 1-1e-15\n",
    "    y_p = K.clip(y_p, 1e-15, 1 - 1e-15)\n",
    "    # Transform to log\n",
    "    y_p_log = K.log(y_p)\n",
    "    # Get the log for ones, .values is used to drop the index of DataFrames\n",
    "    # Exclude class 99 for now, since there is no class99 in the training set\n",
    "    # we gave a special process for that class\n",
    "    y_log_ones = K.sum(y_ohe * y_p_log, axis=0)\n",
    "    # Get the number of positives for each class\n",
    "    nb_pos = K.sum(y_ohe ,axis=0)\n",
    "    # Weight average and divide by the number of positives\n",
    "    class_arr = np.array([class_weight[k] for k in sorted(class_weight.keys())])\n",
    "    y_w = y_log_ones * class_arr / nb_pos\n",
    "\n",
    "    loss = - np.sum(y_w) / np.sum(class_arr)\n",
    "    return loss"
   ]
  },
  {
   "cell_type": "code",
   "execution_count": 86,
   "metadata": {},
   "outputs": [
    {
     "name": "stdout",
     "output_type": "stream",
     "text": [
      "_________________________________________________________________\n",
      "Layer (type)                 Output Shape              Param #   \n",
      "=================================================================\n",
      "lstm_24 (LSTM)               (None, 352, 24)           5856      \n",
      "_________________________________________________________________\n",
      "batch_normalization_22 (Batc (None, 352, 24)           96        \n",
      "_________________________________________________________________\n",
      "dropout_21 (Dropout)         (None, 352, 24)           0         \n",
      "_________________________________________________________________\n",
      "lstm_25 (LSTM)               (None, 24)                4704      \n",
      "_________________________________________________________________\n",
      "batch_normalization_23 (Batc (None, 24)                96        \n",
      "_________________________________________________________________\n",
      "dropout_22 (Dropout)         (None, 24)                0         \n",
      "_________________________________________________________________\n",
      "dense_12 (Dense)             (None, 14)                350       \n",
      "=================================================================\n",
      "Total params: 11,102\n",
      "Trainable params: 11,006\n",
      "Non-trainable params: 96\n",
      "_________________________________________________________________\n",
      "Train on 4206 samples, validate on 1052 samples\n",
      "Epoch 1/50\n",
      " - 78s - loss: 2.7885 - acc: 0.1144 - val_loss: 2.5925 - val_acc: 0.1663\n",
      "Epoch 2/50\n",
      " - 70s - loss: 2.5383 - acc: 0.1610 - val_loss: 2.4471 - val_acc: 0.1797\n",
      "Epoch 3/50\n",
      " - 69s - loss: 2.3925 - acc: 0.2185 - val_loss: 2.3186 - val_acc: 0.1806\n",
      "Epoch 4/50\n",
      " - 68s - loss: 2.2993 - acc: 0.2599 - val_loss: 2.2473 - val_acc: 0.2671\n",
      "Epoch 5/50\n",
      " - 71s - loss: 2.2568 - acc: 0.2677 - val_loss: 2.2163 - val_acc: 0.2652\n",
      "Epoch 6/50\n",
      " - 73s - loss: 2.2208 - acc: 0.2739 - val_loss: 2.2143 - val_acc: 0.2671\n",
      "Epoch 7/50\n",
      " - 72s - loss: 2.2067 - acc: 0.2851 - val_loss: 2.2040 - val_acc: 0.2690\n",
      "Epoch 8/50\n",
      " - 71s - loss: 2.2028 - acc: 0.2832 - val_loss: 2.2020 - val_acc: 0.2700\n",
      "Epoch 9/50\n",
      " - 71s - loss: 2.1926 - acc: 0.2836 - val_loss: 2.2007 - val_acc: 0.2709\n",
      "Epoch 10/50\n",
      " - 70s - loss: 2.1828 - acc: 0.2851 - val_loss: 2.1976 - val_acc: 0.2700\n",
      "Epoch 11/50\n",
      " - 71s - loss: 2.1839 - acc: 0.2865 - val_loss: 2.1963 - val_acc: 0.2709\n",
      "Epoch 12/50\n",
      " - 71s - loss: 2.1829 - acc: 0.2910 - val_loss: 2.1954 - val_acc: 0.2709\n",
      "Epoch 13/50\n",
      " - 69s - loss: 2.1678 - acc: 0.2884 - val_loss: 2.1985 - val_acc: 0.2700\n",
      "Epoch 14/50\n",
      " - 65s - loss: 2.1724 - acc: 0.2865 - val_loss: 2.1937 - val_acc: 0.2700\n",
      "Epoch 15/50\n",
      " - 70s - loss: 2.1643 - acc: 0.2879 - val_loss: 2.1939 - val_acc: 0.2700\n",
      "Epoch 16/50\n",
      " - 68s - loss: 2.1587 - acc: 0.2922 - val_loss: 2.1945 - val_acc: 0.2709\n",
      "Epoch 17/50\n",
      " - 68s - loss: 2.1604 - acc: 0.2943 - val_loss: 2.1934 - val_acc: 0.2700\n",
      "Epoch 18/50\n",
      " - 71s - loss: 2.1582 - acc: 0.2939 - val_loss: 2.1936 - val_acc: 0.2700\n",
      "Epoch 19/50\n",
      " - 67s - loss: 2.1560 - acc: 0.2924 - val_loss: 2.1925 - val_acc: 0.2700\n",
      "Epoch 20/50\n",
      " - 70s - loss: 2.1538 - acc: 0.2941 - val_loss: 2.1934 - val_acc: 0.2700\n",
      "Epoch 21/50\n",
      " - 68s - loss: 2.1555 - acc: 0.2946 - val_loss: 2.1990 - val_acc: 0.2671\n",
      "Epoch 22/50\n",
      " - 67s - loss: 2.1527 - acc: 0.2953 - val_loss: 2.1949 - val_acc: 0.2700\n",
      "Epoch 23/50\n",
      " - 67s - loss: 2.1554 - acc: 0.2967 - val_loss: 2.1946 - val_acc: 0.2700\n",
      "Epoch 24/50\n",
      " - 67s - loss: 2.1532 - acc: 0.2951 - val_loss: 2.1961 - val_acc: 0.2681\n",
      "Epoch 25/50\n",
      " - 68s - loss: 2.1568 - acc: 0.2955 - val_loss: 2.1945 - val_acc: 0.2681\n",
      "Epoch 26/50\n",
      " - 68s - loss: 2.1451 - acc: 0.2958 - val_loss: 2.1968 - val_acc: 0.2700\n",
      "Epoch 27/50\n",
      " - 2370s - loss: 2.1468 - acc: 0.2972 - val_loss: 2.1931 - val_acc: 0.2700\n",
      "Epoch 28/50\n",
      " - 1217s - loss: 2.1473 - acc: 0.2946 - val_loss: 2.1952 - val_acc: 0.2700\n",
      "Epoch 29/50\n",
      " - 2371s - loss: 2.1407 - acc: 0.2955 - val_loss: 2.1926 - val_acc: 0.2681\n",
      "Epoch 30/50\n",
      " - 1501s - loss: 2.1491 - acc: 0.2962 - val_loss: 2.1903 - val_acc: 0.2690\n",
      "Epoch 31/50\n",
      " - 3481s - loss: 2.1468 - acc: 0.2960 - val_loss: 2.1925 - val_acc: 0.2709\n",
      "Epoch 32/50\n",
      " - 1222s - loss: 2.1391 - acc: 0.2979 - val_loss: 2.1944 - val_acc: 0.2671\n",
      "Epoch 33/50\n",
      " - 4417s - loss: 2.1354 - acc: 0.2960 - val_loss: 2.1971 - val_acc: 0.2662\n",
      "Epoch 34/50\n",
      " - 1507s - loss: 2.1388 - acc: 0.2967 - val_loss: 2.1998 - val_acc: 0.2662\n",
      "Epoch 35/50\n",
      " - 3923s - loss: 2.1403 - acc: 0.2962 - val_loss: 2.1951 - val_acc: 0.2662\n",
      "Epoch 36/50\n",
      " - 1224s - loss: 2.1404 - acc: 0.2967 - val_loss: 2.1977 - val_acc: 0.2671\n",
      "Epoch 37/50\n",
      " - 70s - loss: 2.1374 - acc: 0.2979 - val_loss: 2.1988 - val_acc: 0.2681\n",
      "Epoch 38/50\n",
      " - 67s - loss: 2.1395 - acc: 0.2953 - val_loss: 2.1978 - val_acc: 0.2671\n",
      "Epoch 39/50\n",
      " - 69s - loss: 2.1400 - acc: 0.2977 - val_loss: 2.1971 - val_acc: 0.2662\n",
      "Epoch 40/50\n",
      " - 70s - loss: 2.1392 - acc: 0.2970 - val_loss: 2.2005 - val_acc: 0.2662\n",
      "Epoch 41/50\n",
      " - 71s - loss: 2.1376 - acc: 0.2972 - val_loss: 2.1998 - val_acc: 0.2662\n",
      "Epoch 42/50\n",
      " - 70s - loss: 2.1343 - acc: 0.2965 - val_loss: 2.1986 - val_acc: 0.2662\n",
      "Epoch 43/50\n",
      " - 69s - loss: 2.1375 - acc: 0.2965 - val_loss: 2.1992 - val_acc: 0.2662\n",
      "Epoch 44/50\n",
      " - 68s - loss: 2.1311 - acc: 0.2986 - val_loss: 2.1991 - val_acc: 0.2643\n",
      "Epoch 45/50\n",
      " - 69s - loss: 2.1326 - acc: 0.2970 - val_loss: 2.2007 - val_acc: 0.2633\n",
      "Epoch 46/50\n",
      " - 69s - loss: 2.1304 - acc: 0.2958 - val_loss: 2.2039 - val_acc: 0.2652\n",
      "Epoch 47/50\n",
      " - 70s - loss: 2.1341 - acc: 0.2981 - val_loss: 2.2027 - val_acc: 0.2643\n",
      "Epoch 48/50\n",
      " - 72s - loss: 2.1353 - acc: 0.2962 - val_loss: 2.2069 - val_acc: 0.2652\n",
      "Epoch 49/50\n",
      " - 70s - loss: 2.1336 - acc: 0.2974 - val_loss: 2.2023 - val_acc: 0.2652\n",
      "Epoch 50/50\n",
      " - 70s - loss: 2.1364 - acc: 0.2953 - val_loss: 2.2030 - val_acc: 0.2662\n"
     ]
    },
    {
     "data": {
      "image/png": "[encoded data removed]",
      "text/plain": [
       "<Figure size 432x288 with 1 Axes>"
      ]
     },
     "metadata": {
      "needs_background": "light"
     },
     "output_type": "display_data"
    }
   ],
   "source": [
    "\n",
    "# split training data on two sets\n",
    "train_x, test_x, train_y, test_y = train_test_split(X_train, Y_train, test_size=0.2, random_state = 4)\n",
    "\n",
    "# define RNN architecture\n",
    "model = Sequential()\n",
    "\n",
    "\n",
    "model.add(LSTM(24, batch_input_shape=(None, 352, 36), return_sequences=True))\n",
    "\n",
    "model.add(BatchNormalization())\n",
    "model.add(Dropout(0.2))\n",
    "\n",
    "model.add(LSTM(24))\n",
    "model.add(BatchNormalization())\n",
    "\n",
    "model.add(Dropout(0.2))\n",
    "\n",
    "model.add(Dense(14, activation='softmax'))\n",
    "model.compile(loss='categorical_crossentropy', optimizer='adam', metrics=['accuracy'])\n",
    "\n",
    "model.summary()\n",
    "\n",
    "# fit network\n",
    "history = model.fit(train_x, train_y, epochs=50, batch_size=40, validation_data=(test_x, test_y), verbose=2, shuffle=False)\n",
    "\n",
    "\n",
    "# plot history\n",
    "plt.plot(history.history['loss'], label='train')\n",
    "plt.plot(history.history['val_loss'], label='test')\n",
    "plt.legend()\n",
    "plt.show()"
   ]
  },
  {
   "cell_type": "code",
   "execution_count": 49,
   "metadata": {},
   "outputs": [
    {
     "data": {
      "image/png": "[encoded data removed]",
      "text/plain": [
       "<Figure size 432x288 with 1 Axes>"
      ]
     },
     "metadata": {
      "needs_background": "light"
     },
     "output_type": "display_data"
    }
   ],
   "source": [
    "# plot history\n",
    "plt.plot(history.history['loss'], label='train')\n",
    "plt.plot(history.history['val_loss'], label='test')\n",
    "plt.legend()\n",
    "plt.show()"
   ]
  },
  {
   "cell_type": "code",
   "execution_count": 65,
   "metadata": {},
   "outputs": [],
   "source": [
    "Y_predict = model.predict(test_x)"
   ]
  },
  {
   "cell_type": "code",
   "execution_count": 75,
   "metadata": {},
   "outputs": [],
   "source": [
    "Y_predict_df = pd.DataFrame(Y_predict)\n",
    "type(Y_predict_df)\n",
    "\n",
    "test_y_df = pd.DataFrame(test_y)\n",
    "\n",
    "Y_predict_df.to_csv('/Users/georgyguryev/Documents/repos/RNN_predictions.csv')\n",
    "test_y_df.to_csv('/Users/georgyguryev/Documents/repos/RNN_true_labels.csv')"
   ]
  },
  {
   "cell_type": "code",
   "execution_count": 52,
   "metadata": {},
   "outputs": [
    {
     "ename": "AttributeError",
     "evalue": "module 'matplotlib.pyplot' has no attribute 'plot_model'",
     "output_type": "error",
     "traceback": [
      "\u001b[0;31m---------------------------------------------------------------------------\u001b[0m",
      "\u001b[0;31mAttributeError\u001b[0m                            Traceback (most recent call last)",
      "\u001b[0;32m<ipython-input-52-eb4d86d3ce96>\u001b[0m in \u001b[0;36m<module>\u001b[0;34m\u001b[0m\n\u001b[0;32m----> 1\u001b[0;31m \u001b[0mplt\u001b[0m\u001b[0;34m.\u001b[0m\u001b[0mplot_model\u001b[0m\u001b[0;34m(\u001b[0m\u001b[0mmodel\u001b[0m\u001b[0;34m,\u001b[0m \u001b[0mto_file\u001b[0m\u001b[0;34m=\u001b[0m\u001b[0mdata_folder\u001b[0m\u001b[0;34m+\u001b[0m\u001b[0;34m'model_plot.png'\u001b[0m\u001b[0;34m,\u001b[0m \u001b[0mshow_shapes\u001b[0m\u001b[0;34m=\u001b[0m\u001b[0;32mTrue\u001b[0m\u001b[0;34m,\u001b[0m \u001b[0mshow_layer_names\u001b[0m\u001b[0;34m=\u001b[0m\u001b[0;32mTrue\u001b[0m\u001b[0;34m)\u001b[0m\u001b[0;34m\u001b[0m\u001b[0m\n\u001b[0m",
      "\u001b[0;31mAttributeError\u001b[0m: module 'matplotlib.pyplot' has no attribute 'plot_model'"
     ]
    }
   ],
   "source": [
    "plot_model(model, to_file=data_folder+'model_plot.png', show_shapes=True, show_layer_names=True)"
   ]
  },
  {
   "cell_type": "code",
   "execution_count": null,
   "metadata": {},
   "outputs": [],
   "source": []
  }
 ],
 "metadata": {
  "kernelspec": {
   "display_name": "Python 3",
   "language": "python",
   "name": "python3"
  },
  "language_info": {
   "codemirror_mode": {
    "name": "ipython",
    "version": 3
   },
   "file_extension": ".py",
   "mimetype": "text/x-python",
   "name": "python",
   "nbconvert_exporter": "python",
   "pygments_lexer": "ipython3",
   "version": "3.6.6"
  }
 },
 "nbformat": 4,
 "nbformat_minor": 2
}
