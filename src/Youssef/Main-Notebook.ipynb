{
 "cells": [
  {
   "cell_type": "markdown",
   "metadata": {},
   "source": [
    "# Can you help make sense of the Universe?\n",
    "\n"
   ]
  },
  {
   "cell_type": "markdown",
   "metadata": {},
   "source": [
    "# Set up"
   ]
  },
  {
   "cell_type": "markdown",
   "metadata": {},
   "source": [
    "#### Required Library"
   ]
  },
  {
   "cell_type": "code",
   "execution_count": 1,
   "metadata": {},
   "outputs": [
    {
     "name": "stderr",
     "output_type": "stream",
     "text": [
      "/Users/youssefberrada/anaconda3/lib/python3.7/site-packages/lightgbm/__init__.py:46: UserWarning: Starting from version 2.2.1, the library file in distribution wheels for macOS is built by the Apple Clang (Xcode_8.3.1) compiler.\n",
      "This means that in case of installing LightGBM from PyPI via the ``pip install lightgbm`` command, you don't need to install the gcc compiler anymore.\n",
      "Instead of that, you need to install the OpenMP library, which is required for running LightGBM on the system with the Apple Clang compiler.\n",
      "You can install the OpenMP library by the following command: ``brew install libomp``.\n",
      "  \"You can install the OpenMP library by the following command: ``brew install libomp``.\", UserWarning)\n"
     ]
    }
   ],
   "source": [
    "import numpy as np # linear algebra\n",
    "import pandas as pd # data processing, CSV file I/O (e.g. pd.read_csv)\n",
    "from sklearn.metrics import log_loss\n",
    "from sklearn.model_selection import StratifiedKFold\n",
    "\n",
    "import os\n",
    "import matplotlib.pyplot as plt\n",
    "import seaborn as sns \n",
    "import lightgbm as lgb\n",
    "from catboost import Pool, CatBoostClassifier\n",
    "import itertools\n",
    "import pickle, gzip\n",
    "import glob\n",
    "from sklearn.preprocessing import StandardScaler\n",
    "from tsfresh.feature_extraction import extract_features\n"
   ]
  },
  {
   "cell_type": "markdown",
   "metadata": {},
   "source": [
    "#### Path"
   ]
  },
  {
   "cell_type": "code",
   "execution_count": 2,
   "metadata": {},
   "outputs": [],
   "source": [
    "#data_folder = \"/Users/youssefberrada/Downloads/all/\""
   ]
  },
  {
   "cell_type": "markdown",
   "metadata": {},
   "source": [
    "# Data Acquisition"
   ]
  },
  {
   "cell_type": "code",
   "execution_count": 3,
   "metadata": {},
   "outputs": [],
   "source": [
    "\n",
    "#train = pd.read_csv(data_folder+'training_set.csv')\n",
    "#meta_train = pd.read_csv(data_folder+'training_set_metadata.csv')"
   ]
  },
  {
   "cell_type": "code",
   "execution_count": 10,
   "metadata": {},
   "outputs": [],
   "source": [
    "data_folder = \"/Users/youssefberrada/Documents/GitHub/PLAsTiCC-Astronomical-Classification/data/class_data/\"\n",
    "train = pd.read_csv(data_folder+'class_training_set.csv')\n",
    "meta_train = pd.read_csv(data_folder+'class_training_set_meta.csv')"
   ]
  },
  {
   "cell_type": "code",
   "execution_count": 32,
   "metadata": {
    "scrolled": true
   },
   "outputs": [
    {
     "data": {
      "text/html": [
       "<div>\n",
       "<style scoped>\n",
       "    .dataframe tbody tr th:only-of-type {\n",
       "        vertical-align: middle;\n",
       "    }\n",
       "\n",
       "    .dataframe tbody tr th {\n",
       "        vertical-align: top;\n",
       "    }\n",
       "\n",
       "    .dataframe thead th {\n",
       "        text-align: right;\n",
       "    }\n",
       "</style>\n",
       "<table border=\"1\" class=\"dataframe\">\n",
       "  <thead>\n",
       "    <tr style=\"text-align: right;\">\n",
       "      <th></th>\n",
       "      <th>object_id</th>\n",
       "      <th>mjd</th>\n",
       "      <th>passband</th>\n",
       "      <th>flux</th>\n",
       "      <th>flux_err</th>\n",
       "      <th>detected</th>\n",
       "    </tr>\n",
       "  </thead>\n",
       "  <tbody>\n",
       "    <tr>\n",
       "      <th>0</th>\n",
       "      <td>713</td>\n",
       "      <td>59825.2600</td>\n",
       "      <td>2</td>\n",
       "      <td>9.110147</td>\n",
       "      <td>1.013889</td>\n",
       "      <td>0</td>\n",
       "    </tr>\n",
       "    <tr>\n",
       "      <th>1</th>\n",
       "      <td>713</td>\n",
       "      <td>59825.2676</td>\n",
       "      <td>1</td>\n",
       "      <td>7.615042</td>\n",
       "      <td>1.160329</td>\n",
       "      <td>1</td>\n",
       "    </tr>\n",
       "    <tr>\n",
       "      <th>2</th>\n",
       "      <td>713</td>\n",
       "      <td>59825.2752</td>\n",
       "      <td>3</td>\n",
       "      <td>6.673631</td>\n",
       "      <td>1.932316</td>\n",
       "      <td>1</td>\n",
       "    </tr>\n",
       "    <tr>\n",
       "      <th>3</th>\n",
       "      <td>713</td>\n",
       "      <td>59825.2862</td>\n",
       "      <td>4</td>\n",
       "      <td>5.214194</td>\n",
       "      <td>3.018003</td>\n",
       "      <td>0</td>\n",
       "    </tr>\n",
       "    <tr>\n",
       "      <th>4</th>\n",
       "      <td>713</td>\n",
       "      <td>59825.2971</td>\n",
       "      <td>5</td>\n",
       "      <td>12.060948</td>\n",
       "      <td>7.163382</td>\n",
       "      <td>0</td>\n",
       "    </tr>\n",
       "  </tbody>\n",
       "</table>\n",
       "</div>"
      ],
      "text/plain": [
       "   object_id         mjd  passband       flux  flux_err  detected\n",
       "0        713  59825.2600         2   9.110147  1.013889         0\n",
       "1        713  59825.2676         1   7.615042  1.160329         1\n",
       "2        713  59825.2752         3   6.673631  1.932316         1\n",
       "3        713  59825.2862         4   5.214194  3.018003         0\n",
       "4        713  59825.2971         5  12.060948  7.163382         0"
      ]
     },
     "execution_count": 32,
     "metadata": {},
     "output_type": "execute_result"
    }
   ],
   "source": [
    "train.head()"
   ]
  },
  {
   "cell_type": "markdown",
   "metadata": {},
   "source": [
    "# Data Pre-Processing"
   ]
  },
  {
   "cell_type": "code",
   "execution_count": 49,
   "metadata": {},
   "outputs": [
    {
     "name": "stderr",
     "output_type": "stream",
     "text": [
      "Feature Extraction: 100%|██████████| 20/20 [00:06<00:00,  3.95it/s]\n",
      "/Users/youssefberrada/anaconda3/lib/python3.7/site-packages/pandas/core/reshape/merge.py:544: UserWarning: merging between different levels can give an unintended result (3 levels on the left, 1 on the right)\n",
      "  warnings.warn(msg, UserWarning)\n"
     ]
    }
   ],
   "source": [
    "fcp = {'fft_coefficient': [{'coeff': 0, 'attr': 'abs'},{'coeff': 1, 'attr': 'abs'}],'kurtosis' : None, 'skewness' : None}\n",
    "def our_feature(df):\n",
    "    part1 = df[['object_id','mjd','passband','flux']]\n",
    "    part2 = df[['object_id','mjd','passband','flux_err']]\n",
    "    part1 = pd.melt(part1,id_vars=['object_id','mjd','passband'],value_name='flux').pivot_table(index =['object_id','mjd'],columns='passband')\n",
    "    part2 = pd.melt(part2,id_vars=['object_id','mjd','passband'],value_name='flux_err').pivot_table(index =['object_id','mjd'],columns='passband')\n",
    "    \n",
    "    time_series_df = part1.join(part2)\n",
    "    \n",
    "    def diff_1(series):\n",
    "        return series.max() - series.min()\n",
    "    \n",
    "    def diff_2(series):\n",
    "        return (series.max() - series.min())/series.mean()\n",
    "        \n",
    "    simple_features = time_series_df.groupby('object_id').agg(['mean','std','min','max','skew',diff_1,diff_2])\n",
    "    \n",
    "    agg_df_ts = extract_features(df, column_id='object_id', column_sort='mjd', column_kind='passband', column_value = 'flux', default_fc_parameters = fcp, n_jobs=4)\n",
    "    \n",
    "    output = pd.merge(simple_features,agg_df_ts,left_index=True,right_index=True)\n",
    "    \n",
    "    return output\n",
    "agg_train = our_feature(train)\n",
    "agg_train.dropna(inplace=True)"
   ]
  },
  {
   "cell_type": "code",
   "execution_count": 3,
   "metadata": {},
   "outputs": [],
   "source": [
    "fcp = {'fft_coefficient': [{'coeff': 0, 'attr': 'abs'},{'coeff': 1, 'attr': 'abs'}],'kurtosis' : None, 'skewness' : None}\n",
    "\n",
    "def featurize(df):\n",
    "    df['flux_ratio_sq'] = np.power(df['flux'] / df['flux_err'], 2.0)\n",
    "    df['flux_by_flux_ratio_sq'] = df['flux'] * df['flux_ratio_sq']\n",
    "    # train[detected==1, mjd_diff:=max(mjd)-min(mjd), by=object_id]\n",
    "\n",
    "\n",
    "    aggs = {\n",
    "        'flux': ['min', 'max', 'mean', 'median', 'std','skew'],\n",
    "        'flux_err': ['min', 'max', 'mean', 'median', 'std','skew'],\n",
    "        'detected': ['mean'],\n",
    "        'flux_ratio_sq':['sum','skew'],\n",
    "        'flux_by_flux_ratio_sq':['sum','skew'],\n",
    "    }\n",
    "\n",
    "    agg_df = df.groupby('object_id').agg(aggs)\n",
    "    new_columns = [\n",
    "        k + '_' + agg for k in aggs.keys() for agg in aggs[k]\n",
    "    ]\n",
    "    agg_df.columns = new_columns\n",
    "    agg_df['flux_diff'] = agg_df['flux_max'] - agg_df['flux_min']\n",
    "    agg_df['flux_dif2'] = (agg_df['flux_max'] - agg_df['flux_min']) / agg_df['flux_mean']\n",
    "    agg_df['flux_w_mean'] = agg_df['flux_by_flux_ratio_sq_sum'] / agg_df['flux_ratio_sq_sum']\n",
    "    agg_df['flux_dif3'] = (agg_df['flux_max'] - agg_df['flux_min']) / agg_df['flux_w_mean']\n",
    "    # Add more features with \n",
    "    agg_df_ts = extract_features(df, column_id='object_id', column_sort='mjd', column_kind='passband', column_value = 'flux', default_fc_parameters = fcp, n_jobs=5)\n",
    "    # Add smart feature that is suggested here https://www.kaggle.com/c/PLAsTiCC-2018/discussion/69696#410538\n",
    "    # dt[detected==1, mjd_diff:=max(mjd)-min(mjd), by=object_id]\n",
    "    df_det = df[df['detected']==1].copy()\n",
    "\n",
    "    agg_df_mjd = extract_features(df_det, column_id='object_id', column_value = 'mjd', default_fc_parameters = {'maximum':None, 'minimum':None}, n_jobs=5)\n",
    "    agg_df_mjd['mjd_diff_det'] = agg_df_mjd['mjd__maximum'] - agg_df_mjd['mjd__minimum']\n",
    "    del agg_df_mjd['mjd__maximum'], agg_df_mjd['mjd__minimum']\n",
    "    agg_df_ts = pd.merge(agg_df_ts, agg_df_mjd,left_index=True, right_index=True)\n",
    "    # tsfresh returns a dataframe with an index name='id'\n",
    "    #agg_df_ts.index.rename('object_id',inplace=True)\n",
    "    agg_df = pd.merge(agg_df, agg_df_ts,left_index=True, right_index=True)\n",
    "    return agg_df\n",
    "    #return agg_df_mjd,agg_df_ts\n"
   ]
  },
  {
   "cell_type": "code",
   "execution_count": 11,
   "metadata": {},
   "outputs": [
    {
     "name": "stderr",
     "output_type": "stream",
     "text": [
      "Feature Extraction: 100%|██████████| 25/25 [00:03<00:00, 10.65it/s]\n",
      "Feature Extraction: 100%|██████████| 25/25 [00:00<00:00, 90.62it/s]\n"
     ]
    }
   ],
   "source": [
    "agg_train= featurize(train)"
   ]
  },
  {
   "cell_type": "code",
   "execution_count": 50,
   "metadata": {},
   "outputs": [
    {
     "data": {
      "text/html": [
       "<div>\n",
       "<style scoped>\n",
       "    .dataframe tbody tr th:only-of-type {\n",
       "        vertical-align: middle;\n",
       "    }\n",
       "\n",
       "    .dataframe tbody tr th {\n",
       "        vertical-align: top;\n",
       "    }\n",
       "\n",
       "    .dataframe thead th {\n",
       "        text-align: right;\n",
       "    }\n",
       "</style>\n",
       "<table border=\"1\" class=\"dataframe\">\n",
       "  <thead>\n",
       "    <tr style=\"text-align: right;\">\n",
       "      <th></th>\n",
       "      <th>(flux, 0, mean)</th>\n",
       "      <th>(flux, 0, std)</th>\n",
       "      <th>(flux, 0, min)</th>\n",
       "      <th>(flux, 0, max)</th>\n",
       "      <th>(flux, 0, skew)</th>\n",
       "      <th>(flux, 0, diff_1)</th>\n",
       "      <th>(flux, 0, diff_2)</th>\n",
       "      <th>(flux, 1, mean)</th>\n",
       "      <th>(flux, 1, std)</th>\n",
       "      <th>(flux, 1, min)</th>\n",
       "      <th>...</th>\n",
       "      <th>3__kurtosis</th>\n",
       "      <th>3__skewness</th>\n",
       "      <th>4__fft_coefficient__coeff_0__attr_\"abs\"</th>\n",
       "      <th>4__fft_coefficient__coeff_1__attr_\"abs\"</th>\n",
       "      <th>4__kurtosis</th>\n",
       "      <th>4__skewness</th>\n",
       "      <th>5__fft_coefficient__coeff_0__attr_\"abs\"</th>\n",
       "      <th>5__fft_coefficient__coeff_1__attr_\"abs\"</th>\n",
       "      <th>5__kurtosis</th>\n",
       "      <th>5__skewness</th>\n",
       "    </tr>\n",
       "    <tr>\n",
       "      <th>object_id</th>\n",
       "      <th></th>\n",
       "      <th></th>\n",
       "      <th></th>\n",
       "      <th></th>\n",
       "      <th></th>\n",
       "      <th></th>\n",
       "      <th></th>\n",
       "      <th></th>\n",
       "      <th></th>\n",
       "      <th></th>\n",
       "      <th></th>\n",
       "      <th></th>\n",
       "      <th></th>\n",
       "      <th></th>\n",
       "      <th></th>\n",
       "      <th></th>\n",
       "      <th></th>\n",
       "      <th></th>\n",
       "      <th></th>\n",
       "      <th></th>\n",
       "      <th></th>\n",
       "    </tr>\n",
       "  </thead>\n",
       "  <tbody>\n",
       "    <tr>\n",
       "      <th>713</th>\n",
       "      <td>-2.720398</td>\n",
       "      <td>7.113509</td>\n",
       "      <td>-14.735178</td>\n",
       "      <td>14.509829</td>\n",
       "      <td>0.260052</td>\n",
       "      <td>29.245007</td>\n",
       "      <td>-10.750268</td>\n",
       "      <td>-1.019804</td>\n",
       "      <td>5.712334</td>\n",
       "      <td>-11.715749</td>\n",
       "      <td>...</td>\n",
       "      <td>-1.142896</td>\n",
       "      <td>-0.167176</td>\n",
       "      <td>50.414646</td>\n",
       "      <td>203.892482</td>\n",
       "      <td>-1.190245</td>\n",
       "      <td>-0.064134</td>\n",
       "      <td>100.473776</td>\n",
       "      <td>143.963093</td>\n",
       "      <td>-0.797047</td>\n",
       "      <td>0.218182</td>\n",
       "    </tr>\n",
       "    <tr>\n",
       "      <th>730</th>\n",
       "      <td>-0.048080</td>\n",
       "      <td>1.828872</td>\n",
       "      <td>-3.459960</td>\n",
       "      <td>5.942166</td>\n",
       "      <td>0.356910</td>\n",
       "      <td>9.402126</td>\n",
       "      <td>-195.550011</td>\n",
       "      <td>0.141057</td>\n",
       "      <td>1.807229</td>\n",
       "      <td>-3.393080</td>\n",
       "      <td>...</td>\n",
       "      <td>7.125665</td>\n",
       "      <td>2.662075</td>\n",
       "      <td>219.745132</td>\n",
       "      <td>202.532898</td>\n",
       "      <td>6.081065</td>\n",
       "      <td>2.537802</td>\n",
       "      <td>231.509177</td>\n",
       "      <td>199.286370</td>\n",
       "      <td>3.583130</td>\n",
       "      <td>1.680352</td>\n",
       "    </tr>\n",
       "    <tr>\n",
       "      <th>745</th>\n",
       "      <td>1.797523</td>\n",
       "      <td>4.374445</td>\n",
       "      <td>-3.874349</td>\n",
       "      <td>18.014029</td>\n",
       "      <td>2.023211</td>\n",
       "      <td>21.888378</td>\n",
       "      <td>12.176967</td>\n",
       "      <td>5.717394</td>\n",
       "      <td>25.964659</td>\n",
       "      <td>-3.618410</td>\n",
       "      <td>...</td>\n",
       "      <td>16.392533</td>\n",
       "      <td>3.751603</td>\n",
       "      <td>735.528417</td>\n",
       "      <td>680.055280</td>\n",
       "      <td>13.747434</td>\n",
       "      <td>3.476420</td>\n",
       "      <td>591.037583</td>\n",
       "      <td>523.503586</td>\n",
       "      <td>12.134629</td>\n",
       "      <td>3.170857</td>\n",
       "    </tr>\n",
       "    <tr>\n",
       "      <th>1124</th>\n",
       "      <td>0.660948</td>\n",
       "      <td>2.360084</td>\n",
       "      <td>-6.804703</td>\n",
       "      <td>5.330927</td>\n",
       "      <td>-0.332169</td>\n",
       "      <td>12.135630</td>\n",
       "      <td>18.360947</td>\n",
       "      <td>4.634637</td>\n",
       "      <td>8.107525</td>\n",
       "      <td>-2.622109</td>\n",
       "      <td>...</td>\n",
       "      <td>14.095862</td>\n",
       "      <td>3.603208</td>\n",
       "      <td>574.553907</td>\n",
       "      <td>524.107264</td>\n",
       "      <td>16.377058</td>\n",
       "      <td>3.904008</td>\n",
       "      <td>393.114268</td>\n",
       "      <td>357.907185</td>\n",
       "      <td>14.434470</td>\n",
       "      <td>3.657305</td>\n",
       "    </tr>\n",
       "    <tr>\n",
       "      <th>1227</th>\n",
       "      <td>1.287449</td>\n",
       "      <td>8.727326</td>\n",
       "      <td>-3.818113</td>\n",
       "      <td>71.678154</td>\n",
       "      <td>7.585756</td>\n",
       "      <td>75.496267</td>\n",
       "      <td>58.640181</td>\n",
       "      <td>0.228660</td>\n",
       "      <td>1.694776</td>\n",
       "      <td>-2.582174</td>\n",
       "      <td>...</td>\n",
       "      <td>-0.497384</td>\n",
       "      <td>-0.043294</td>\n",
       "      <td>30.384898</td>\n",
       "      <td>23.255760</td>\n",
       "      <td>3.266776</td>\n",
       "      <td>0.247423</td>\n",
       "      <td>25.692383</td>\n",
       "      <td>78.643093</td>\n",
       "      <td>1.290034</td>\n",
       "      <td>0.535841</td>\n",
       "    </tr>\n",
       "  </tbody>\n",
       "</table>\n",
       "<p>5 rows × 108 columns</p>\n",
       "</div>"
      ],
      "text/plain": [
       "           (flux, 0, mean)  (flux, 0, std)  (flux, 0, min)  (flux, 0, max)  \\\n",
       "object_id                                                                    \n",
       "713              -2.720398        7.113509      -14.735178       14.509829   \n",
       "730              -0.048080        1.828872       -3.459960        5.942166   \n",
       "745               1.797523        4.374445       -3.874349       18.014029   \n",
       "1124              0.660948        2.360084       -6.804703        5.330927   \n",
       "1227              1.287449        8.727326       -3.818113       71.678154   \n",
       "\n",
       "           (flux, 0, skew)  (flux, 0, diff_1)  (flux, 0, diff_2)  \\\n",
       "object_id                                                          \n",
       "713               0.260052          29.245007         -10.750268   \n",
       "730               0.356910           9.402126        -195.550011   \n",
       "745               2.023211          21.888378          12.176967   \n",
       "1124             -0.332169          12.135630          18.360947   \n",
       "1227              7.585756          75.496267          58.640181   \n",
       "\n",
       "           (flux, 1, mean)  (flux, 1, std)  (flux, 1, min)     ...       \\\n",
       "object_id                                                      ...        \n",
       "713              -1.019804        5.712334      -11.715749     ...        \n",
       "730               0.141057        1.807229       -3.393080     ...        \n",
       "745               5.717394       25.964659       -3.618410     ...        \n",
       "1124              4.634637        8.107525       -2.622109     ...        \n",
       "1227              0.228660        1.694776       -2.582174     ...        \n",
       "\n",
       "           3__kurtosis  3__skewness  4__fft_coefficient__coeff_0__attr_\"abs\"  \\\n",
       "object_id                                                                      \n",
       "713          -1.142896    -0.167176                                50.414646   \n",
       "730           7.125665     2.662075                               219.745132   \n",
       "745          16.392533     3.751603                               735.528417   \n",
       "1124         14.095862     3.603208                               574.553907   \n",
       "1227         -0.497384    -0.043294                                30.384898   \n",
       "\n",
       "           4__fft_coefficient__coeff_1__attr_\"abs\"  4__kurtosis  4__skewness  \\\n",
       "object_id                                                                      \n",
       "713                                     203.892482    -1.190245    -0.064134   \n",
       "730                                     202.532898     6.081065     2.537802   \n",
       "745                                     680.055280    13.747434     3.476420   \n",
       "1124                                    524.107264    16.377058     3.904008   \n",
       "1227                                     23.255760     3.266776     0.247423   \n",
       "\n",
       "           5__fft_coefficient__coeff_0__attr_\"abs\"  \\\n",
       "object_id                                            \n",
       "713                                     100.473776   \n",
       "730                                     231.509177   \n",
       "745                                     591.037583   \n",
       "1124                                    393.114268   \n",
       "1227                                     25.692383   \n",
       "\n",
       "           5__fft_coefficient__coeff_1__attr_\"abs\"  5__kurtosis  5__skewness  \n",
       "object_id                                                                     \n",
       "713                                     143.963093    -0.797047     0.218182  \n",
       "730                                     199.286370     3.583130     1.680352  \n",
       "745                                     523.503586    12.134629     3.170857  \n",
       "1124                                    357.907185    14.434470     3.657305  \n",
       "1227                                     78.643093     1.290034     0.535841  \n",
       "\n",
       "[5 rows x 108 columns]"
      ]
     },
     "execution_count": 50,
     "metadata": {},
     "output_type": "execute_result"
    }
   ],
   "source": [
    "agg_train.head()"
   ]
  },
  {
   "cell_type": "code",
   "execution_count": 12,
   "metadata": {
    "scrolled": true
   },
   "outputs": [
    {
     "name": "stdout",
     "output_type": "stream",
     "text": [
      "Unique classes :  [6, 15, 16, 42, 52, 53, 62, 64, 65, 67, 88, 90, 92, 95]\n"
     ]
    }
   ],
   "source": [
    "full_train = agg_train.reset_index().merge(\n",
    "    right=meta_train,\n",
    "    how='outer',\n",
    "    on='object_id'\n",
    ")\n",
    "\n",
    "if 'target' in full_train:\n",
    "    y = full_train['target']\n",
    "    #del full_train['target']\n",
    "classes = sorted(y.unique())\n",
    "\n",
    "class_weight = {\n",
    "    c: 1 for c in classes\n",
    "}\n",
    "for c in [64, 15]:\n",
    "    class_weight[c] = 2\n",
    "\n",
    "print('Unique classes : ', classes)\n",
    "\n",
    "if 'object_id' in full_train:\n",
    "    oof_df = full_train[['object_id']]\n",
    "    del full_train['object_id'], full_train['distmod'], full_train['hostgal_specz']\n",
    "    del full_train['ra'], full_train['decl'], full_train['gal_l'],full_train['gal_b'],full_train['ddf']\n",
    "    \n",
    "train_mean = full_train.mean(axis=0)\n",
    "full_train.fillna(0, inplace=True)"
   ]
  },
  {
   "cell_type": "markdown",
   "metadata": {},
   "source": [
    "# Data Analysis"
   ]
  },
  {
   "cell_type": "markdown",
   "metadata": {},
   "source": [
    "#### Light GBM"
   ]
  },
  {
   "cell_type": "code",
   "execution_count": 52,
   "metadata": {},
   "outputs": [],
   "source": [
    "lgb_params_old = {\n",
    "    'boosting_type': 'gbdt',\n",
    "    'objective': 'multiclass',\n",
    "    'num_class': 14,\n",
    "    'metric': 'multi_logloss',\n",
    "    'learning_rate': 0.03,\n",
    "    'subsample': .9,\n",
    "    'colsample_bytree': 0.5,\n",
    "    'reg_alpha': .01,\n",
    "    'reg_lambda': .01,\n",
    "    'min_split_gain': 0.01,\n",
    "    'min_child_weight': 10,\n",
    "    'n_estimators': 1000,\n",
    "    'silent': -1,\n",
    "    'verbose': -1,\n",
    "    'max_depth': 3\n",
    "}\n",
    "lgb_params = {\n",
    "            'device': 'cpu', \n",
    "            'objective': 'multiclass', \n",
    "            'num_class': 14, \n",
    "            'boosting_type': 'gbdt', \n",
    "            'n_jobs': -1, \n",
    "            'max_depth': 6, \n",
    "            'n_estimators': 1000, \n",
    "            'subsample_freq': 2, \n",
    "            'subsample_for_bin': 5000, \n",
    "            'min_data_per_group': 100, \n",
    "            'max_cat_to_onehot': 4, \n",
    "            'cat_l2': 1.0, \n",
    "            'cat_smooth': 59.5, \n",
    "            'max_cat_threshold': 32, \n",
    "            'metric_freq': 10, \n",
    "            'verbosity': -1, \n",
    "            'metric': 'multi_logloss', \n",
    "            'xgboost_dart_mode': False, \n",
    "            'uniform_drop': False, \n",
    "            'colsample_bytree': 0.5, \n",
    "            'drop_rate': 0.173, \n",
    "            'learning_rate': 0.025, \n",
    "            'max_drop': 5, \n",
    "            'min_child_samples': 10, \n",
    "            'min_child_weight': 200.0, \n",
    "            'min_split_gain': 0.01, \n",
    "            'num_leaves': 7, \n",
    "            'reg_alpha': 0.1, \n",
    "            'reg_lambda': 0.00023, \n",
    "            'skip_drop': 0.44, \n",
    "            'subsample': 0.75}"
   ]
  },
  {
   "cell_type": "code",
   "execution_count": 53,
   "metadata": {},
   "outputs": [],
   "source": [
    "def multi_weighted_logloss(y_true, y_preds):\n",
    "    \"\"\"\n",
    "    this function implements a multi logloss \n",
    "    \"\"\"\n",
    "    classes = [6, 15, 16, 42, 52, 53, 62, 64, 65, 67, 88, 90, 92, 95]\n",
    "    class_weight = {6: 1, 15: 2, 16: 1, 42: 1, 52: 1, 53: 1, 62: 1, 64: 2, 65: 1, 67: 1, 88: 1, 90: 1, 92: 1, 95: 1}\n",
    "    if len(np.unique(y_true)) > 14:\n",
    "        classes.append(99)\n",
    "        class_weight[99] = 2\n",
    "    y_p = y_preds\n",
    "    # Trasform y_true in dummies\n",
    "    y_ohe = pd.get_dummies(y_true)\n",
    "    # Normalize rows and limit y_preds to 1e-15, 1-1e-15\n",
    "    y_p = np.clip(a=y_p, a_min=1e-15, a_max=1 - 1e-15)\n",
    "    # Transform to log\n",
    "    y_p_log = np.log(y_p)\n",
    "    # Get the log for ones, .values is used to drop the index of DataFrames\n",
    "    # Exclude class 99 for now, since there is no class99 in the training set\n",
    "    # we gave a special process for that class\n",
    "    y_log_ones = np.sum(y_ohe.values * y_p_log, axis=0)\n",
    "    # Get the number of positives for each class\n",
    "    nb_pos = y_ohe.sum(axis=0).values.astype(float)\n",
    "    # Weight average and divide by the number of positives\n",
    "    class_arr = np.array([class_weight[k] for k in sorted(class_weight.keys())])\n",
    "    y_w = y_log_ones * class_arr / nb_pos\n",
    "\n",
    "    loss = - np.sum(y_w) / np.sum(class_arr)\n",
    "    return loss\n",
    "def lgb_multi_weighted_logloss(y_true, y_preds):\n",
    "    \"\"\"\n",
    "    @author olivier https://www.kaggle.com/ogrellier\n",
    "    multi logloss for PLAsTiCC challenge\n",
    "    \"\"\"\n",
    "    # class_weights taken from Giba's topic : https://www.kaggle.com/titericz\n",
    "    # https://www.kaggle.com/c/PLAsTiCC-2018/discussion/67194\n",
    "    # with Kyle Boone's post https://www.kaggle.com/kyleboone\n",
    "    classes = [6, 15, 16, 42, 52, 53, 62, 64, 65, 67, 88, 90, 92, 95]\n",
    "    class_weight = {6: 1, 15: 2, 16: 1, 42: 1, 52: 1, 53: 1, 62: 1, 64: 2, 65: 1, 67: 1, 88: 1, 90: 1, 92: 1, 95: 1}\n",
    "    if len(np.unique(y_true)) > 14:\n",
    "        classes.append(99)\n",
    "        class_weight[99] = 2\n",
    "    y_p = y_preds.reshape(y_true.shape[0], len(classes), order='F')\n",
    "\n",
    "    # Trasform y_true in dummies\n",
    "    y_ohe = pd.get_dummies(y_true)\n",
    "    # Normalize rows and limit y_preds to 1e-15, 1-1e-15\n",
    "    y_p = np.clip(a=y_p, a_min=1e-15, a_max=1 - 1e-15)\n",
    "    # Transform to log\n",
    "    y_p_log = np.log(y_p)\n",
    "    # Get the log for ones, .values is used to drop the index of DataFrames\n",
    "    # Exclude class 99 for now, since there is no class99 in the training set\n",
    "    # we gave a special process for that class\n",
    "    y_log_ones = np.sum(y_ohe.values * y_p_log, axis=0)\n",
    "    # Get the number of positives for each class\n",
    "    nb_pos = y_ohe.sum(axis=0).values.astype(float)\n",
    "    # Weight average and divide by the number of positives\n",
    "    class_arr = np.array([class_weight[k] for k in sorted(class_weight.keys())])\n",
    "    y_w = y_log_ones * class_arr / nb_pos\n",
    "\n",
    "    loss = - np.sum(y_w) / np.sum(class_arr)\n",
    "    return 'wloss', loss, False\n",
    "\n"
   ]
  },
  {
   "cell_type": "code",
   "execution_count": 54,
   "metadata": {
    "scrolled": true
   },
   "outputs": [
    {
     "name": "stdout",
     "output_type": "stream",
     "text": [
      "Training until validation scores don't improve for 50 rounds.\n",
      "[100]\ttraining's multi_logloss: 0.84756\ttraining's wloss: 0.841867\tvalid_1's multi_logloss: 1.24269\tvalid_1's wloss: 1.22953\n",
      "[200]\ttraining's multi_logloss: 0.533191\ttraining's wloss: 0.523887\tvalid_1's multi_logloss: 0.98448\tvalid_1's wloss: 1.00622\n",
      "[300]\ttraining's multi_logloss: 0.408074\ttraining's wloss: 0.39798\tvalid_1's multi_logloss: 0.892373\tvalid_1's wloss: 0.954667\n",
      "[400]\ttraining's multi_logloss: 0.337639\ttraining's wloss: 0.327435\tvalid_1's multi_logloss: 0.848476\tvalid_1's wloss: 0.945028\n",
      "Early stopping, best iteration is:\n",
      "[410]\ttraining's multi_logloss: 0.331925\ttraining's wloss: 0.321641\tvalid_1's multi_logloss: 0.844959\tvalid_1's wloss: 0.944188\n",
      "0.9441878057076823\n",
      "Training until validation scores don't improve for 50 rounds.\n",
      "[100]\ttraining's multi_logloss: 0.849668\ttraining's wloss: 0.851955\tvalid_1's multi_logloss: 1.21943\tvalid_1's wloss: 1.13263\n",
      "[200]\ttraining's multi_logloss: 0.532732\ttraining's wloss: 0.530016\tvalid_1's multi_logloss: 0.96752\tvalid_1's wloss: 0.915499\n",
      "[300]\ttraining's multi_logloss: 0.407097\ttraining's wloss: 0.401941\tvalid_1's multi_logloss: 0.881144\tvalid_1's wloss: 0.864057\n",
      "[400]\ttraining's multi_logloss: 0.336763\ttraining's wloss: 0.330716\tvalid_1's multi_logloss: 0.84058\tvalid_1's wloss: 0.861737\n",
      "Early stopping, best iteration is:\n",
      "[382]\ttraining's multi_logloss: 0.347629\ttraining's wloss: 0.341801\tvalid_1's multi_logloss: 0.846182\tvalid_1's wloss: 0.860389\n",
      "0.8603886156335623\n",
      "Training until validation scores don't improve for 50 rounds.\n",
      "[100]\ttraining's multi_logloss: 0.848453\ttraining's wloss: 0.849016\tvalid_1's multi_logloss: 1.21336\tvalid_1's wloss: 1.14749\n",
      "[200]\ttraining's multi_logloss: 0.529127\ttraining's wloss: 0.5256\tvalid_1's multi_logloss: 0.961233\tvalid_1's wloss: 0.940594\n",
      "[300]\ttraining's multi_logloss: 0.40391\ttraining's wloss: 0.398644\tvalid_1's multi_logloss: 0.878719\tvalid_1's wloss: 0.902025\n",
      "Early stopping, best iteration is:\n",
      "[292]\ttraining's multi_logloss: 0.411095\ttraining's wloss: 0.405929\tvalid_1's multi_logloss: 0.882485\tvalid_1's wloss: 0.901858\n",
      "0.9018576284065756\n",
      "Training until validation scores don't improve for 50 rounds.\n",
      "[100]\ttraining's multi_logloss: 0.852781\ttraining's wloss: 0.853835\tvalid_1's multi_logloss: 1.21404\tvalid_1's wloss: 1.1003\n",
      "[200]\ttraining's multi_logloss: 0.53467\ttraining's wloss: 0.53139\tvalid_1's multi_logloss: 0.962935\tvalid_1's wloss: 0.857474\n",
      "[300]\ttraining's multi_logloss: 0.408397\ttraining's wloss: 0.403256\tvalid_1's multi_logloss: 0.875176\tvalid_1's wloss: 0.803735\n",
      "[400]\ttraining's multi_logloss: 0.337847\ttraining's wloss: 0.331624\tvalid_1's multi_logloss: 0.837397\tvalid_1's wloss: 0.797503\n",
      "Early stopping, best iteration is:\n",
      "[376]\ttraining's multi_logloss: 0.352256\ttraining's wloss: 0.346129\tvalid_1's multi_logloss: 0.844526\tvalid_1's wloss: 0.796316\n",
      "0.7963163359640176\n",
      "Training until validation scores don't improve for 50 rounds.\n",
      "[100]\ttraining's multi_logloss: 0.849131\ttraining's wloss: 0.849531\tvalid_1's multi_logloss: 1.25942\tvalid_1's wloss: 1.14574\n",
      "[200]\ttraining's multi_logloss: 0.532263\ttraining's wloss: 0.527139\tvalid_1's multi_logloss: 1.00176\tvalid_1's wloss: 0.927634\n",
      "[300]\ttraining's multi_logloss: 0.407296\ttraining's wloss: 0.400198\tvalid_1's multi_logloss: 0.910979\tvalid_1's wloss: 0.884771\n",
      "Early stopping, best iteration is:\n",
      "[346]\ttraining's multi_logloss: 0.371561\ttraining's wloss: 0.363701\tvalid_1's multi_logloss: 0.887104\tvalid_1's wloss: 0.881386\n",
      "0.8813857804894594\n"
     ]
    }
   ],
   "source": [
    "folds = StratifiedKFold(n_splits=5, shuffle=True, random_state=1)\n",
    "clfs = []\n",
    "importances = pd.DataFrame()\n",
    "\n",
    "\n",
    "# Compute weights\n",
    "w = y.value_counts()\n",
    "weights = {i : np.sum(w) / w[i] for i in w.index}\n",
    "\n",
    "oof_preds = np.zeros((len(full_train), np.unique(y).shape[0]))\n",
    "for fold_, (trn_, val_) in enumerate(folds.split(y, y)):\n",
    "    trn_x, trn_y = full_train.iloc[trn_], y.iloc[trn_]\n",
    "    val_x, val_y = full_train.iloc[val_], y.iloc[val_]\n",
    "\n",
    "    clf = lgb.LGBMClassifier(**lgb_params)\n",
    "    clf.fit(\n",
    "        trn_x, trn_y,\n",
    "        eval_set=[(trn_x, trn_y), (val_x, val_y)],\n",
    "        eval_metric=lgb_multi_weighted_logloss,\n",
    "        verbose=100,\n",
    "        early_stopping_rounds=50,\n",
    "        sample_weight=trn_y.map(weights)\n",
    "    )\n",
    "    oof_preds[val_, :] = clf.predict_proba(val_x, num_iteration=clf.best_iteration_)\n",
    "    print(multi_weighted_logloss(val_y, oof_preds[val_, :]))\n",
    "\n",
    "    imp_df = pd.DataFrame()\n",
    "    imp_df['feature'] = full_train.columns\n",
    "    imp_df['gain'] = clf.feature_importances_\n",
    "    imp_df['fold'] = fold_ + 1\n",
    "    importances = pd.concat([importances, imp_df], axis=0)\n",
    "\n",
    "    clfs.append(clf)\n",
    "\n"
   ]
  },
  {
   "cell_type": "code",
   "execution_count": 57,
   "metadata": {},
   "outputs": [],
   "source": [
    "def predict_chunk(df_, clfs_, meta_, features, train_mean):\n",
    "    # Group by object id    \n",
    "    agg_ = our_feature(df_)\n",
    "    # Merge with meta data\n",
    "    full_test = agg_.reset_index().merge(\n",
    "        right=meta_,\n",
    "        how='left',\n",
    "        on='object_id'\n",
    "    )\n",
    "\n",
    "    full_test = full_test.fillna(0)\n",
    "    # Make predictions\n",
    "    preds_ = None\n",
    "    for clf in clfs_:\n",
    "        if preds_ is None:\n",
    "            preds_ = clf.predict_proba(full_test[features]) / len(clfs_)\n",
    "        else:\n",
    "            preds_ += clf.predict_proba(full_test[features]) / len(clfs_)\n",
    "\n",
    "    # Compute preds_99 as the proba of class not being any of the others\n",
    "    # preds_99 = 0.1 gives 1.769\n",
    "    preds_99 = np.ones(preds_.shape[0])\n",
    "    for i in range(preds_.shape[1]):\n",
    "        preds_99 *= (1 - preds_[:, i])\n",
    "\n",
    "    # Create DataFrame from predictions\n",
    "    preds_df_ = pd.DataFrame(preds_, columns=['class_' + str(s) for s in clfs_[0].classes_])\n",
    "    preds_df_['object_id'] = full_test['object_id']\n",
    "    preds_df_['class_99'] = 0.14 * preds_99 / np.mean(preds_99) \n",
    "    return preds_df_"
   ]
  },
  {
   "cell_type": "code",
   "execution_count": 55,
   "metadata": {},
   "outputs": [],
   "source": [
    "def predict_chunk(df_, clfs_, meta_, features, train_mean):\n",
    "    # Group by object id    \n",
    "    agg_ = featurize(df_)\n",
    "    # Merge with meta data\n",
    "    full_test = agg_.reset_index().merge(\n",
    "        right=meta_,\n",
    "        how='left',\n",
    "        on='object_id'\n",
    "    )\n",
    "\n",
    "    full_test = full_test.fillna(0)\n",
    "    # Make predictions\n",
    "    preds_ = None\n",
    "    for clf in clfs_:\n",
    "        if preds_ is None:\n",
    "            preds_ = clf.predict_proba(full_test[features]) / len(clfs_)\n",
    "        else:\n",
    "            preds_ += clf.predict_proba(full_test[features]) / len(clfs_)\n",
    "\n",
    "    # Compute preds_99 as the proba of class not being any of the others\n",
    "    # preds_99 = 0.1 gives 1.769\n",
    "    preds_99 = np.ones(preds_.shape[0])\n",
    "    for i in range(preds_.shape[1]):\n",
    "        preds_99 *= (1 - preds_[:, i])\n",
    "\n",
    "    # Create DataFrame from predictions\n",
    "    preds_df_ = pd.DataFrame(preds_, columns=['class_' + str(s) for s in clfs_[0].classes_])\n",
    "    preds_df_['object_id'] = full_test['object_id']\n",
    "    preds_df_['class_99'] = 0.14 * preds_99 / np.mean(preds_99) \n",
    "    return preds_df_"
   ]
  },
  {
   "cell_type": "code",
   "execution_count": 58,
   "metadata": {},
   "outputs": [],
   "source": [
    "\n",
    "#meta_test = pd.read_csv(data_folder+'test_set_metadata.csv')\n",
    "meta_test = pd.read_csv(data_folder+'class_test_set_meta.csv').drop('target',axis=1)\n",
    "meta_test_full = pd.read_csv(data_folder+'class_test_set_meta.csv')"
   ]
  },
  {
   "cell_type": "code",
   "execution_count": 59,
   "metadata": {},
   "outputs": [
    {
     "data": {
      "text/html": [
       "<div>\n",
       "<style scoped>\n",
       "    .dataframe tbody tr th:only-of-type {\n",
       "        vertical-align: middle;\n",
       "    }\n",
       "\n",
       "    .dataframe tbody tr th {\n",
       "        vertical-align: top;\n",
       "    }\n",
       "\n",
       "    .dataframe thead th {\n",
       "        text-align: right;\n",
       "    }\n",
       "</style>\n",
       "<table border=\"1\" class=\"dataframe\">\n",
       "  <thead>\n",
       "    <tr style=\"text-align: right;\">\n",
       "      <th></th>\n",
       "      <th>object_id</th>\n",
       "      <th>ra</th>\n",
       "      <th>decl</th>\n",
       "      <th>gal_l</th>\n",
       "      <th>gal_b</th>\n",
       "      <th>ddf</th>\n",
       "      <th>hostgal_specz</th>\n",
       "      <th>hostgal_photoz</th>\n",
       "      <th>hostgal_photoz_err</th>\n",
       "      <th>distmod</th>\n",
       "      <th>mwebv</th>\n",
       "    </tr>\n",
       "  </thead>\n",
       "  <tbody>\n",
       "    <tr>\n",
       "      <th>0</th>\n",
       "      <td>615</td>\n",
       "      <td>349.046051</td>\n",
       "      <td>-61.943836</td>\n",
       "      <td>320.796530</td>\n",
       "      <td>-51.753706</td>\n",
       "      <td>1</td>\n",
       "      <td>0.0000</td>\n",
       "      <td>0.0000</td>\n",
       "      <td>0.0000</td>\n",
       "      <td>NaN</td>\n",
       "      <td>0.017</td>\n",
       "    </tr>\n",
       "    <tr>\n",
       "      <th>1</th>\n",
       "      <td>1920</td>\n",
       "      <td>149.414062</td>\n",
       "      <td>3.433834</td>\n",
       "      <td>234.919132</td>\n",
       "      <td>42.245550</td>\n",
       "      <td>1</td>\n",
       "      <td>0.3088</td>\n",
       "      <td>0.3229</td>\n",
       "      <td>0.3360</td>\n",
       "      <td>41.1401</td>\n",
       "      <td>0.027</td>\n",
       "    </tr>\n",
       "    <tr>\n",
       "      <th>2</th>\n",
       "      <td>2624</td>\n",
       "      <td>346.655182</td>\n",
       "      <td>-63.260487</td>\n",
       "      <td>320.952196</td>\n",
       "      <td>-50.040935</td>\n",
       "      <td>1</td>\n",
       "      <td>0.0000</td>\n",
       "      <td>0.0000</td>\n",
       "      <td>0.0000</td>\n",
       "      <td>NaN</td>\n",
       "      <td>0.019</td>\n",
       "    </tr>\n",
       "    <tr>\n",
       "      <th>3</th>\n",
       "      <td>2677</td>\n",
       "      <td>53.964844</td>\n",
       "      <td>-28.630989</td>\n",
       "      <td>225.142950</td>\n",
       "      <td>-53.813613</td>\n",
       "      <td>1</td>\n",
       "      <td>0.0000</td>\n",
       "      <td>0.0000</td>\n",
       "      <td>0.0000</td>\n",
       "      <td>NaN</td>\n",
       "      <td>0.009</td>\n",
       "    </tr>\n",
       "    <tr>\n",
       "      <th>4</th>\n",
       "      <td>3041</td>\n",
       "      <td>346.130127</td>\n",
       "      <td>-63.072620</td>\n",
       "      <td>321.423103</td>\n",
       "      <td>-50.042305</td>\n",
       "      <td>1</td>\n",
       "      <td>0.1069</td>\n",
       "      <td>0.1274</td>\n",
       "      <td>0.0198</td>\n",
       "      <td>38.8800</td>\n",
       "      <td>0.020</td>\n",
       "    </tr>\n",
       "  </tbody>\n",
       "</table>\n",
       "</div>"
      ],
      "text/plain": [
       "   object_id          ra       decl       gal_l      gal_b  ddf  \\\n",
       "0        615  349.046051 -61.943836  320.796530 -51.753706    1   \n",
       "1       1920  149.414062   3.433834  234.919132  42.245550    1   \n",
       "2       2624  346.655182 -63.260487  320.952196 -50.040935    1   \n",
       "3       2677   53.964844 -28.630989  225.142950 -53.813613    1   \n",
       "4       3041  346.130127 -63.072620  321.423103 -50.042305    1   \n",
       "\n",
       "   hostgal_specz  hostgal_photoz  hostgal_photoz_err  distmod  mwebv  \n",
       "0         0.0000          0.0000              0.0000      NaN  0.017  \n",
       "1         0.3088          0.3229              0.3360  41.1401  0.027  \n",
       "2         0.0000          0.0000              0.0000      NaN  0.019  \n",
       "3         0.0000          0.0000              0.0000      NaN  0.009  \n",
       "4         0.1069          0.1274              0.0198  38.8800  0.020  "
      ]
     },
     "execution_count": 59,
     "metadata": {},
     "output_type": "execute_result"
    }
   ],
   "source": [
    "meta_test.head()"
   ]
  },
  {
   "cell_type": "code",
   "execution_count": 61,
   "metadata": {},
   "outputs": [
    {
     "name": "stderr",
     "output_type": "stream",
     "text": [
      "Feature Extraction: 100%|██████████| 20/20 [00:05<00:00,  6.26it/s]\n",
      "/Users/youssefberrada/anaconda3/lib/python3.7/site-packages/pandas/core/reshape/merge.py:544: UserWarning: merging between different levels can give an unintended result (3 levels on the left, 1 on the right)\n",
      "  warnings.warn(msg, UserWarning)\n"
     ]
    },
    {
     "name": "stdout",
     "output_type": "stream",
     "text": [
      "        5000000 done in   0.8 minutes\n"
     ]
    },
    {
     "name": "stderr",
     "output_type": "stream",
     "text": [
      "Feature Extraction: 100%|██████████| 6/6 [00:00<00:00, 714.37it/s]\n",
      "/Users/youssefberrada/anaconda3/lib/python3.7/site-packages/pandas/core/reshape/merge.py:544: UserWarning: merging between different levels can give an unintended result (3 levels on the left, 1 on the right)\n",
      "  warnings.warn(msg, UserWarning)\n"
     ]
    }
   ],
   "source": [
    "\n",
    "# meta_test.set_index('object_id',inplace=True)\n",
    "import time\n",
    "\n",
    "start = time.time()\n",
    "chunks = 5000000\n",
    "remain_df = None\n",
    "\n",
    "for i_c, df in enumerate(pd.read_csv(data_folder+'class_test_set.csv', chunksize=chunks, iterator=True)):\n",
    "    unique_ids = np.unique(df['object_id'])\n",
    "    new_remain_df = df.loc[df['object_id'] == unique_ids[-1]].copy()\n",
    "    if remain_df is None:\n",
    "        df = df.loc[df['object_id'].isin(unique_ids[:-1])]\n",
    "    else:\n",
    "        df = pd.concat([remain_df, df.loc[df['object_id'].isin(unique_ids[:-1])]], axis=0)\n",
    "    # Create remaining samples df\n",
    "    remain_df = new_remain_df\n",
    "    preds_df = predict_chunk(df_=df,\n",
    "                             clfs_=clfs,\n",
    "                             meta_=meta_test,\n",
    "                             features=full_train.columns,\n",
    "                             train_mean=train_mean)\n",
    "\n",
    "    if i_c == 0:\n",
    "        preds_df.to_csv(data_folder+'predictions.csv', header=True, mode='a', index=False)\n",
    "    else:\n",
    "        preds_df.to_csv(data_folder+'predictions.csv', header=False, mode='a', index=False)\n",
    "\n",
    "    del preds_df\n",
    "    \n",
    "    print('%15d done in %5.1f minutes' % (chunks * (i_c + 1), (time.time() - start) / 60), flush=True)\n",
    "\n",
    "# Compute last object in remain_df\n",
    "preds_df = predict_chunk(df_=remain_df,\n",
    "                         clfs_=clfs,\n",
    "                         meta_=meta_test,\n",
    "                         features=full_train.columns,\n",
    "                         train_mean=train_mean)\n",
    "\n",
    "preds_df.to_csv(data_folder+'predictions.csv', header=False, mode='a', index=False)"
   ]
  },
  {
   "cell_type": "markdown",
   "metadata": {},
   "source": [
    "# Data Evaluation"
   ]
  },
  {
   "cell_type": "markdown",
   "metadata": {},
   "source": [
    "### Loss Function "
   ]
  },
  {
   "cell_type": "code",
   "execution_count": 17,
   "metadata": {},
   "outputs": [
    {
     "data": {
      "text/html": [
       "<div>\n",
       "<style scoped>\n",
       "    .dataframe tbody tr th:only-of-type {\n",
       "        vertical-align: middle;\n",
       "    }\n",
       "\n",
       "    .dataframe tbody tr th {\n",
       "        vertical-align: top;\n",
       "    }\n",
       "\n",
       "    .dataframe thead th {\n",
       "        text-align: right;\n",
       "    }\n",
       "</style>\n",
       "<table border=\"1\" class=\"dataframe\">\n",
       "  <thead>\n",
       "    <tr style=\"text-align: right;\">\n",
       "      <th></th>\n",
       "      <th>class_6</th>\n",
       "      <th>class_15</th>\n",
       "      <th>class_16</th>\n",
       "      <th>class_42</th>\n",
       "      <th>class_52</th>\n",
       "      <th>class_53</th>\n",
       "      <th>class_62</th>\n",
       "      <th>class_64</th>\n",
       "      <th>class_65</th>\n",
       "      <th>class_67</th>\n",
       "      <th>class_88</th>\n",
       "      <th>class_90</th>\n",
       "      <th>class_92</th>\n",
       "      <th>class_95</th>\n",
       "      <th>object_id</th>\n",
       "      <th>class_99</th>\n",
       "    </tr>\n",
       "  </thead>\n",
       "  <tbody>\n",
       "    <tr>\n",
       "      <th>0</th>\n",
       "      <td>0.000556</td>\n",
       "      <td>0.000642</td>\n",
       "      <td>0.000247</td>\n",
       "      <td>0.000505</td>\n",
       "      <td>0.000576</td>\n",
       "      <td>0.000107</td>\n",
       "      <td>0.000387</td>\n",
       "      <td>0.000356</td>\n",
       "      <td>0.995406</td>\n",
       "      <td>0.000306</td>\n",
       "      <td>0.000231</td>\n",
       "      <td>0.000349</td>\n",
       "      <td>0.000214</td>\n",
       "      <td>0.000118</td>\n",
       "      <td>130739978</td>\n",
       "      <td>0.14</td>\n",
       "    </tr>\n",
       "  </tbody>\n",
       "</table>\n",
       "</div>"
      ],
      "text/plain": [
       "    class_6  class_15  class_16  class_42  class_52  class_53  class_62  \\\n",
       "0  0.000556  0.000642  0.000247  0.000505  0.000576  0.000107  0.000387   \n",
       "\n",
       "   class_64  class_65  class_67  class_88  class_90  class_92  class_95  \\\n",
       "0  0.000356  0.995406  0.000306  0.000231  0.000349  0.000214  0.000118   \n",
       "\n",
       "   object_id  class_99  \n",
       "0  130739978      0.14  "
      ]
     },
     "execution_count": 17,
     "metadata": {},
     "output_type": "execute_result"
    }
   ],
   "source": [
    "preds_df"
   ]
  },
  {
   "cell_type": "code",
   "execution_count": 18,
   "metadata": {},
   "outputs": [
    {
     "name": "stdout",
     "output_type": "stream",
     "text": [
      "MULTI WEIGHTED LOG LOSS : 0.77363 \n"
     ]
    }
   ],
   "source": [
    "print('MULTI WEIGHTED LOG LOSS : %.5f ' % multi_weighted_logloss(y_true=y, y_preds=oof_preds))"
   ]
  },
  {
   "cell_type": "code",
   "execution_count": null,
   "metadata": {},
   "outputs": [],
   "source": []
  },
  {
   "cell_type": "markdown",
   "metadata": {},
   "source": [
    "# Data Presentation"
   ]
  },
  {
   "cell_type": "markdown",
   "metadata": {},
   "source": [
    "### Confusion Matrix"
   ]
  },
  {
   "cell_type": "markdown",
   "metadata": {},
   "source": [
    "### Plot the Confusion Matrix"
   ]
  },
  {
   "cell_type": "code",
   "execution_count": 21,
   "metadata": {},
   "outputs": [
    {
     "name": "stdout",
     "output_type": "stream",
     "text": [
      "Normalized confusion matrix\n"
     ]
    },
    {
     "data": {
      "image/png": "[encoded data removed]",
      "text/plain": [
       "<Figure size 864x864 with 2 Axes>"
      ]
     },
     "metadata": {
      "needs_background": "light"
     },
     "output_type": "display_data"
    }
   ],
   "source": [
    "def plot_confusion_matrix(cm, classes,\n",
    "                          normalize=False,\n",
    "                          title='Confusion matrix',\n",
    "                          cmap=plt.cm.Blues):\n",
    "    \"\"\"\n",
    "    This function prints and plots the confusion matrix.\n",
    "    Normalization can be applied by setting `normalize=True`.\n",
    "    \"\"\"\n",
    "    if normalize:\n",
    "        cm = cm.astype('float') / cm.sum(axis=1)[:, np.newaxis]\n",
    "        print(\"Normalized confusion matrix\")\n",
    "    else:\n",
    "        print('Confusion matrix, without normalization')\n",
    "\n",
    "    plt.imshow(cm, interpolation='nearest', cmap=cmap)\n",
    "    plt.title(title)\n",
    "    plt.colorbar()\n",
    "    tick_marks = np.arange(len(classes))\n",
    "    plt.xticks(tick_marks, classes, rotation=45)\n",
    "    plt.yticks(tick_marks, classes)\n",
    "\n",
    "    fmt = '.2f' if normalize else 'd'\n",
    "    thresh = cm.max() / 2.\n",
    "    for i, j in itertools.product(range(cm.shape[0]), range(cm.shape[1])):\n",
    "        plt.text(j, i, format(cm[i, j], fmt),\n",
    "                 horizontalalignment=\"center\",\n",
    "                 color=\"white\" if cm[i, j] > thresh else \"black\")\n",
    "\n",
    "    plt.ylabel('True label')\n",
    "    plt.xlabel('Predicted label')\n",
    "    plt.tight_layout()\n",
    "    \n",
    "unique_y = np.unique(y)\n",
    "class_map = dict()\n",
    "for i,val in enumerate(unique_y):\n",
    "    class_map[val] = i\n",
    "        \n",
    "y_map = np.zeros((y.shape[0],))\n",
    "y_map = np.array([class_map[val] for val in y])\n",
    "\n",
    "# Compute confusion matrix\n",
    "from sklearn.metrics import confusion_matrix\n",
    "cnf_matrix = confusion_matrix(y_map, np.argmax(oof_preds,axis=-1))\n",
    "np.set_printoptions(precision=2)\n",
    "\n",
    "sample_sub = pd.read_csv(data_folder+'sample_submission.csv')\n",
    "class_names = list(sample_sub.columns[1:-1])\n",
    "del sample_sub;\n",
    "\n",
    "# Plot non-normalized confusion matrix\n",
    "plt.figure(figsize=(12,12))\n",
    "foo = plot_confusion_matrix(cnf_matrix, classes=class_names,normalize=True,\n",
    "                      title='Confusion matrix')"
   ]
  },
  {
   "cell_type": "code",
   "execution_count": null,
   "metadata": {},
   "outputs": [],
   "source": [
    "from sklearn.metrics import recall_score\n",
    "recall_sc = recall_score(y_map, np.argmax(oof_preds,axis=-1), average='macro')\n",
    "recall_sc"
   ]
  },
  {
   "cell_type": "code",
   "execution_count": null,
   "metadata": {},
   "outputs": [],
   "source": [
    "from sklearn.metrics import f1_score\n",
    "f1_sc = f1_score(y_map, np.argmax(oof_preds,axis=-1), average='macro')\n",
    "f1_sc"
   ]
  },
  {
   "cell_type": "markdown",
   "metadata": {},
   "source": [
    "# Test Set Confusion Matrix"
   ]
  },
  {
   "cell_type": "code",
   "execution_count": 62,
   "metadata": {},
   "outputs": [],
   "source": [
    "pred= pd.read_csv(data_folder+'predictions.csv')"
   ]
  },
  {
   "cell_type": "code",
   "execution_count": 63,
   "metadata": {},
   "outputs": [],
   "source": [
    "y = np.array(meta_test_full.target)\n",
    "unique_y =np.unique(y)\n",
    "class_map = dict()\n",
    "for i,val in enumerate(unique_y):\n",
    "    class_map[val] = i\n",
    "        \n",
    "y_map = np.zeros((y.shape[0],))\n",
    "y_map = np.array([class_map[val] for val in y])\n",
    "\n"
   ]
  },
  {
   "cell_type": "code",
   "execution_count": 64,
   "metadata": {},
   "outputs": [
    {
     "name": "stderr",
     "output_type": "stream",
     "text": [
      "/Users/youssefberrada/anaconda3/lib/python3.7/site-packages/ipykernel_launcher.py:10: RuntimeWarning: invalid value encountered in true_divide\n",
      "  # Remove the CWD from sys.path while we load stuff.\n",
      "/Users/youssefberrada/anaconda3/lib/python3.7/site-packages/numpy/core/_methods.py:26: RuntimeWarning: invalid value encountered in reduce\n",
      "  return umr_maximum(a, axis, None, out, keepdims)\n"
     ]
    },
    {
     "name": "stdout",
     "output_type": "stream",
     "text": [
      "Normalized confusion matrix\n"
     ]
    },
    {
     "data": {
      "image/png": "[encoded data removed]",
      "text/plain": [
       "<Figure size 864x864 with 2 Axes>"
      ]
     },
     "metadata": {
      "needs_background": "light"
     },
     "output_type": "display_data"
    }
   ],
   "source": [
    "# Sheng Features\n",
    "cnf_matrix = confusion_matrix(y_map, np.argmax(np.array(pred.drop('object_id',axis=1)),axis=1))\n",
    "np.set_printoptions(precision=2)\n",
    "\n",
    "sample_sub = pd.read_csv(data_folder+'sample_submission.csv')\n",
    "class_names = list(sample_sub.columns[1:-1])\n",
    "del sample_sub;\n",
    "\n",
    "# Plot non-normalized confusion matrix\n",
    "plt.figure(figsize=(12,12))\n",
    "foo = plot_confusion_matrix(cnf_matrix, classes=class_names,normalize=True,\n",
    "                      title='Confusion matrix')"
   ]
  },
  {
   "cell_type": "code",
   "execution_count": 30,
   "metadata": {},
   "outputs": [
    {
     "name": "stderr",
     "output_type": "stream",
     "text": [
      "/Users/youssefberrada/anaconda3/lib/python3.7/site-packages/ipykernel_launcher.py:10: RuntimeWarning: invalid value encountered in true_divide\n",
      "  # Remove the CWD from sys.path while we load stuff.\n",
      "/Users/youssefberrada/anaconda3/lib/python3.7/site-packages/numpy/core/_methods.py:26: RuntimeWarning: invalid value encountered in reduce\n",
      "  return umr_maximum(a, axis, None, out, keepdims)\n"
     ]
    },
    {
     "name": "stdout",
     "output_type": "stream",
     "text": [
      "Normalized confusion matrix\n"
     ]
    },
    {
     "data": {
      "image/png": "[encoded data removed]",
      "text/plain": [
       "<Figure size 864x864 with 2 Axes>"
      ]
     },
     "metadata": {
      "needs_background": "light"
     },
     "output_type": "display_data"
    }
   ],
   "source": [
    "# Youssef's Features\n",
    "cnf_matrix = confusion_matrix(y_map, np.argmax(np.array(pred.drop('object_id',axis=1)),axis=1))\n",
    "np.set_printoptions(precision=2)\n",
    "\n",
    "sample_sub = pd.read_csv(data_folder+'sample_submission.csv')\n",
    "class_names = list(sample_sub.columns[1:-1])\n",
    "del sample_sub;\n",
    "\n",
    "# Plot non-normalized confusion matrix\n",
    "plt.figure(figsize=(12,12))\n",
    "foo = plot_confusion_matrix(cnf_matrix, classes=class_names,normalize=True,\n",
    "                      title='Confusion matrix')"
   ]
  },
  {
   "cell_type": "code",
   "execution_count": null,
   "metadata": {},
   "outputs": [],
   "source": []
  }
 ],
 "metadata": {
  "kernelspec": {
   "display_name": "Python 3",
   "language": "python",
   "name": "python3"
  },
  "language_info": {
   "codemirror_mode": {
    "name": "ipython",
    "version": 3
   },
   "file_extension": ".py",
   "mimetype": "text/x-python",
   "name": "python",
   "nbconvert_exporter": "python",
   "pygments_lexer": "ipython3",
   "version": "3.7.0"
  }
 },
 "nbformat": 4,
 "nbformat_minor": 2
}
