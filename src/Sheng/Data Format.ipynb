{
 "cells": [
  {
   "cell_type": "code",
   "execution_count": 1,
   "metadata": {},
   "outputs": [],
   "source": [
    "import os\n",
    "%matplotlib inline\n",
    "\n",
    "import os\n",
    "from collections import Counter, OrderedDict\n",
    "import numpy as np\n",
    "from operator import itemgetter\n",
    "import matplotlib.pyplot as plt\n",
    "from astropy.table import Table\n",
    "import multiprocessing\n",
    "from cesium.time_series import TimeSeries\n",
    "import cesium.featurize as featurize\n",
    "from tqdm import tnrange, tqdm_notebook, tqdm\n",
    "import sklearn \n",
    "from sklearn.model_selection import StratifiedShuffleSplit\n",
    "from sklearn.decomposition import PCA\n",
    "from sklearn.ensemble import RandomForestClassifier\n",
    "from sklearn.metrics import confusion_matrix\n",
    "import seaborn as sns\n",
    "import pandas as pd"
   ]
  },
  {
   "cell_type": "code",
   "execution_count": 2,
   "metadata": {},
   "outputs": [],
   "source": [
    "### Read data files train_meta and train\n",
    "os.chdir('/Users/shengyao/Downloads/Kaggle Data')"
   ]
  },
  {
   "cell_type": "code",
   "execution_count": 64,
   "metadata": {},
   "outputs": [],
   "source": [
    "train_meta_data = pd.read_csv('training_set_metadata.csv')\n",
    "train = pd.read_csv('training_set.csv')\n",
    "train['mjd'] = train['mjd'].apply(int)"
   ]
  },
  {
   "cell_type": "code",
   "execution_count": 67,
   "metadata": {},
   "outputs": [],
   "source": [
    "df_list = list()\n",
    "columns_label = ['object_id','mjd']\n",
    "for i in range(6):\n",
    "    new = ['flux'+str(i),'flux_err'+str(i),'detected'+str(i)]\n",
    "    columns_label = columns_label + new\n"
   ]
  },
  {
   "cell_type": "code",
   "execution_count": 68,
   "metadata": {},
   "outputs": [
    {
     "name": "stderr",
     "output_type": "stream",
     "text": [
      "100%|██████████| 17667/17667 [04:24<00:00, 68.32it/s]\n"
     ]
    }
   ],
   "source": [
    "grouped = train.groupby(['object_id','mjd'])\n",
    "for groups in tqdm(grouped):\n",
    "    entry = pd.DataFrame(data=[[None]*20],columns=columns_label)\n",
    "    entry['object_id'] = int(groups[0][0])\n",
    "    entry['mjd'] = int(groups[0][1])\n",
    "\n",
    "    for i in range(6):\n",
    "        if i in groups[1]['passband'].values:\n",
    "            entry['flux'+str(i)] = groups[1][groups[1]['passband']==i]['flux'].values[0]\n",
    "            entry['flux_err'+str(i)] = groups[1][groups[1]['passband']==i]['flux_err'].values[0]\n",
    "            entry['detected'+str(i)] = groups[1][groups[1]['passband']==i]['detected'].values[0]\n",
    "        if i not in groups[1]['passband'].values:\n",
    "            entry['flux'+str(i)] = np.nan\n",
    "            entry['flux_err'+str(i)] = np.nan\n",
    "            entry['detected'+str(i)] = np.nan\n",
    "    df_list.append(entry)\n",
    "    del entry"
   ]
  },
  {
   "cell_type": "code",
   "execution_count": 69,
   "metadata": {},
   "outputs": [],
   "source": [
    "output_df = pd.concat(df_list)"
   ]
  }
 ],
 "metadata": {
  "kernelspec": {
   "display_name": "Python 3",
   "language": "python",
   "name": "python3"
  },
  "language_info": {
   "codemirror_mode": {
    "name": "ipython",
    "version": 3
   },
   "file_extension": ".py",
   "mimetype": "text/x-python",
   "name": "python",
   "nbconvert_exporter": "python",
   "pygments_lexer": "ipython3",
   "version": "3.6.4"
  }
 },
 "nbformat": 4,
 "nbformat_minor": 2
}
